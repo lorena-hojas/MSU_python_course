{
 "cells": [
  {
   "cell_type": "markdown",
   "metadata": {},
   "source": [
    "MSU-USDA Python Workshop\n",
    "\n",
    "# Python for Data Science: Excel and Simple Plots\n",
    "\n",
    "## I. Importing Libraries\n",
    "\n",
    "First, let's import the libraries needed for data wrangling, for visualization, and for working with Excel files."
   ]
  },
  {
   "cell_type": "code",
   "execution_count": 4,
   "metadata": {
    "tags": []
   },
   "outputs": [],
   "source": [
    "# Import the necessary libraries for Data Wrangling\n",
    "import pandas as pd\n",
    "import numpy as np\n",
    "\n",
    "# Matplot Lib is for drawing plots, graphs, etc. and Seaborn is another package\n",
    "# that makes matplotlib easier to use and create more attractive graphics\n",
    "import matplotlib.pyplot as plt \n",
    "import matplotlib.image as mpimg \n",
    "import seaborn as sns \n",
    "\n",
    "# part of python base, used to work with date/timestamps\n",
    "import datetime\n",
    "\n",
    "# Nice Trick for the future - Import openpyxl; if this fails, \n",
    "# install it, then import it\n",
    "try:\n",
    "    import openpyxl\n",
    "except:\n",
    "    !conda install openpyxl\n",
    "    import openpyxl\n"
   ]
  },
  {
   "cell_type": "markdown",
   "metadata": {},
   "source": [
    "## II. Read the Data\n",
    "\n",
    "### Loading from an Excel Spreadsheet Workbook\n",
    "\n",
    "The spreadsheet is soldiers.xlsx and it is completely real. These data were obtained from http://mreed.umtri.umich.edu/mreed/downloads.html#ansur2 and were acquired as part of the 1988 U.S. Army Anthropometry survey. They consist of data from men and women of the armed forces. For each person, the dataset records height in cm and weight in kg. If you look at the workbook in Excel, you'll see there are two \"sheeets\" - one for women, one for men.\n",
    "\n",
    "First, we need to see if this sheet has more than one sheet in it. Pandas has a great method that will help us get information about an Excel file."
   ]
  },
  {
   "cell_type": "code",
   "execution_count": 7,
   "metadata": {
    "tags": []
   },
   "outputs": [
    {
     "name": "stdout",
     "output_type": "stream",
     "text": [
      "['Males', 'Females']\n"
     ]
    }
   ],
   "source": [
    "tabs = pd.ExcelFile(\"data/soldiers.xlsx\").sheet_names \n",
    "print(tabs)"
   ]
  },
  {
   "cell_type": "markdown",
   "metadata": {},
   "source": [
    "Nice; we can see there are two sheets - one for Males and one for Females.\n",
    "\n",
    "Let's load up the first sheet, the Males.\n"
   ]
  },
  {
   "cell_type": "code",
   "execution_count": 10,
   "metadata": {
    "tags": []
   },
   "outputs": [
    {
     "data": {
      "text/html": [
       "<div>\n",
       "<style scoped>\n",
       "    .dataframe tbody tr th:only-of-type {\n",
       "        vertical-align: middle;\n",
       "    }\n",
       "\n",
       "    .dataframe tbody tr th {\n",
       "        vertical-align: top;\n",
       "    }\n",
       "\n",
       "    .dataframe thead th {\n",
       "        text-align: right;\n",
       "    }\n",
       "</style>\n",
       "<table border=\"1\" class=\"dataframe\">\n",
       "  <thead>\n",
       "    <tr style=\"text-align: right;\">\n",
       "      <th></th>\n",
       "      <th>Height</th>\n",
       "      <th>Weight</th>\n",
       "    </tr>\n",
       "  </thead>\n",
       "  <tbody>\n",
       "    <tr>\n",
       "      <th>0</th>\n",
       "      <td>173.5</td>\n",
       "      <td>88.3</td>\n",
       "    </tr>\n",
       "    <tr>\n",
       "      <th>1</th>\n",
       "      <td>183.0</td>\n",
       "      <td>86.5</td>\n",
       "    </tr>\n",
       "    <tr>\n",
       "      <th>2</th>\n",
       "      <td>172.6</td>\n",
       "      <td>71.3</td>\n",
       "    </tr>\n",
       "    <tr>\n",
       "      <th>3</th>\n",
       "      <td>178.3</td>\n",
       "      <td>81.6</td>\n",
       "    </tr>\n",
       "    <tr>\n",
       "      <th>4</th>\n",
       "      <td>166.9</td>\n",
       "      <td>75.6</td>\n",
       "    </tr>\n",
       "  </tbody>\n",
       "</table>\n",
       "</div>"
      ],
      "text/plain": [
       "   Height  Weight\n",
       "0   173.5    88.3\n",
       "1   183.0    86.5\n",
       "2   172.6    71.3\n",
       "3   178.3    81.6\n",
       "4   166.9    75.6"
      ]
     },
     "execution_count": 10,
     "metadata": {},
     "output_type": "execute_result"
    }
   ],
   "source": [
    "# You'll notice \n",
    "# that it isn't much more difficult than using pd.read_csv()\n",
    "# note: that \"r\" before the path will be useful for windows users\n",
    "# and it will allow you to use a path with backslashes \n",
    "# like C:\\Users\\JohnSmith\\Desktop\\whatever.xlsx\n",
    "\n",
    "bmiDataset = pd.read_excel(r'data/soldiers.xlsx', sheet_name='Males')\n",
    "bmiDataset.head()"
   ]
  },
  {
   "cell_type": "markdown",
   "metadata": {},
   "source": [
    "Beautiful. We have the height and weight for a number of observations. Let's go ahead and create a column that specifies that these are males."
   ]
  },
  {
   "cell_type": "code",
   "execution_count": 13,
   "metadata": {},
   "outputs": [
    {
     "data": {
      "text/html": [
       "<div>\n",
       "<style scoped>\n",
       "    .dataframe tbody tr th:only-of-type {\n",
       "        vertical-align: middle;\n",
       "    }\n",
       "\n",
       "    .dataframe tbody tr th {\n",
       "        vertical-align: top;\n",
       "    }\n",
       "\n",
       "    .dataframe thead th {\n",
       "        text-align: right;\n",
       "    }\n",
       "</style>\n",
       "<table border=\"1\" class=\"dataframe\">\n",
       "  <thead>\n",
       "    <tr style=\"text-align: right;\">\n",
       "      <th></th>\n",
       "      <th>Height</th>\n",
       "      <th>Weight</th>\n",
       "      <th>Sex</th>\n",
       "    </tr>\n",
       "  </thead>\n",
       "  <tbody>\n",
       "    <tr>\n",
       "      <th>0</th>\n",
       "      <td>173.5</td>\n",
       "      <td>88.3</td>\n",
       "      <td>Male</td>\n",
       "    </tr>\n",
       "    <tr>\n",
       "      <th>1</th>\n",
       "      <td>183.0</td>\n",
       "      <td>86.5</td>\n",
       "      <td>Male</td>\n",
       "    </tr>\n",
       "    <tr>\n",
       "      <th>2</th>\n",
       "      <td>172.6</td>\n",
       "      <td>71.3</td>\n",
       "      <td>Male</td>\n",
       "    </tr>\n",
       "    <tr>\n",
       "      <th>3</th>\n",
       "      <td>178.3</td>\n",
       "      <td>81.6</td>\n",
       "      <td>Male</td>\n",
       "    </tr>\n",
       "    <tr>\n",
       "      <th>4</th>\n",
       "      <td>166.9</td>\n",
       "      <td>75.6</td>\n",
       "      <td>Male</td>\n",
       "    </tr>\n",
       "  </tbody>\n",
       "</table>\n",
       "</div>"
      ],
      "text/plain": [
       "   Height  Weight   Sex\n",
       "0   173.5    88.3  Male\n",
       "1   183.0    86.5  Male\n",
       "2   172.6    71.3  Male\n",
       "3   178.3    81.6  Male\n",
       "4   166.9    75.6  Male"
      ]
     },
     "execution_count": 13,
     "metadata": {},
     "output_type": "execute_result"
    }
   ],
   "source": [
    "bmiDataset['Sex'] = 'Male';\n",
    "bmiDataset.head()"
   ]
  },
  {
   "cell_type": "markdown",
   "metadata": {},
   "source": [
    "Nice - now we have the Weight and Height for each male.\n",
    "\n",
    "## III. Add Column with Calculation of BMI\n",
    "\n",
    "Let's add a column that contains the Body Mass Index of each male. Name it \"BMI.\"\n",
    "\n",
    "BMI is defined as a person's weight in kilograms divided by their height in meters squared."
   ]
  },
  {
   "cell_type": "code",
   "execution_count": 16,
   "metadata": {},
   "outputs": [
    {
     "data": {
      "text/html": [
       "<div>\n",
       "<style scoped>\n",
       "    .dataframe tbody tr th:only-of-type {\n",
       "        vertical-align: middle;\n",
       "    }\n",
       "\n",
       "    .dataframe tbody tr th {\n",
       "        vertical-align: top;\n",
       "    }\n",
       "\n",
       "    .dataframe thead th {\n",
       "        text-align: right;\n",
       "    }\n",
       "</style>\n",
       "<table border=\"1\" class=\"dataframe\">\n",
       "  <thead>\n",
       "    <tr style=\"text-align: right;\">\n",
       "      <th></th>\n",
       "      <th>Height</th>\n",
       "      <th>Weight</th>\n",
       "      <th>Sex</th>\n",
       "      <th>BMI</th>\n",
       "    </tr>\n",
       "  </thead>\n",
       "  <tbody>\n",
       "    <tr>\n",
       "      <th>0</th>\n",
       "      <td>173.5</td>\n",
       "      <td>88.3</td>\n",
       "      <td>Male</td>\n",
       "      <td>29.333355</td>\n",
       "    </tr>\n",
       "    <tr>\n",
       "      <th>1</th>\n",
       "      <td>183.0</td>\n",
       "      <td>86.5</td>\n",
       "      <td>Male</td>\n",
       "      <td>25.829377</td>\n",
       "    </tr>\n",
       "    <tr>\n",
       "      <th>2</th>\n",
       "      <td>172.6</td>\n",
       "      <td>71.3</td>\n",
       "      <td>Male</td>\n",
       "      <td>23.933596</td>\n",
       "    </tr>\n",
       "    <tr>\n",
       "      <th>3</th>\n",
       "      <td>178.3</td>\n",
       "      <td>81.6</td>\n",
       "      <td>Male</td>\n",
       "      <td>25.667731</td>\n",
       "    </tr>\n",
       "    <tr>\n",
       "      <th>4</th>\n",
       "      <td>166.9</td>\n",
       "      <td>75.6</td>\n",
       "      <td>Male</td>\n",
       "      <td>27.139955</td>\n",
       "    </tr>\n",
       "  </tbody>\n",
       "</table>\n",
       "</div>"
      ],
      "text/plain": [
       "   Height  Weight   Sex        BMI\n",
       "0   173.5    88.3  Male  29.333355\n",
       "1   183.0    86.5  Male  25.829377\n",
       "2   172.6    71.3  Male  23.933596\n",
       "3   178.3    81.6  Male  25.667731\n",
       "4   166.9    75.6  Male  27.139955"
      ]
     },
     "execution_count": 16,
     "metadata": {},
     "output_type": "execute_result"
    }
   ],
   "source": [
    "bmiDataset['BMI'] = bmiDataset['Weight'] / (bmiDataset['Height']/100)**2\n",
    "\n",
    "bmiDataset.head()"
   ]
  },
  {
   "cell_type": "markdown",
   "metadata": {},
   "source": [
    "Notice how you didn't have to use a for loop to apply an operation to every row. Pandas does vectorization like this for you behind the scenes very efficiently.\n",
    "\n",
    "For neatness and reusability, we could also have defined our own function to do the calculation and Pandas would apply it as well. This is still very fast."
   ]
  },
  {
   "cell_type": "code",
   "execution_count": 19,
   "metadata": {},
   "outputs": [
    {
     "data": {
      "text/html": [
       "<div>\n",
       "<style scoped>\n",
       "    .dataframe tbody tr th:only-of-type {\n",
       "        vertical-align: middle;\n",
       "    }\n",
       "\n",
       "    .dataframe tbody tr th {\n",
       "        vertical-align: top;\n",
       "    }\n",
       "\n",
       "    .dataframe thead th {\n",
       "        text-align: right;\n",
       "    }\n",
       "</style>\n",
       "<table border=\"1\" class=\"dataframe\">\n",
       "  <thead>\n",
       "    <tr style=\"text-align: right;\">\n",
       "      <th></th>\n",
       "      <th>Height</th>\n",
       "      <th>Weight</th>\n",
       "      <th>Sex</th>\n",
       "      <th>BMI</th>\n",
       "    </tr>\n",
       "  </thead>\n",
       "  <tbody>\n",
       "    <tr>\n",
       "      <th>0</th>\n",
       "      <td>173.5</td>\n",
       "      <td>88.3</td>\n",
       "      <td>Male</td>\n",
       "      <td>29.333355</td>\n",
       "    </tr>\n",
       "    <tr>\n",
       "      <th>1</th>\n",
       "      <td>183.0</td>\n",
       "      <td>86.5</td>\n",
       "      <td>Male</td>\n",
       "      <td>25.829377</td>\n",
       "    </tr>\n",
       "    <tr>\n",
       "      <th>2</th>\n",
       "      <td>172.6</td>\n",
       "      <td>71.3</td>\n",
       "      <td>Male</td>\n",
       "      <td>23.933596</td>\n",
       "    </tr>\n",
       "    <tr>\n",
       "      <th>3</th>\n",
       "      <td>178.3</td>\n",
       "      <td>81.6</td>\n",
       "      <td>Male</td>\n",
       "      <td>25.667731</td>\n",
       "    </tr>\n",
       "    <tr>\n",
       "      <th>4</th>\n",
       "      <td>166.9</td>\n",
       "      <td>75.6</td>\n",
       "      <td>Male</td>\n",
       "      <td>27.139955</td>\n",
       "    </tr>\n",
       "  </tbody>\n",
       "</table>\n",
       "</div>"
      ],
      "text/plain": [
       "   Height  Weight   Sex        BMI\n",
       "0   173.5    88.3  Male  29.333355\n",
       "1   183.0    86.5  Male  25.829377\n",
       "2   172.6    71.3  Male  23.933596\n",
       "3   178.3    81.6  Male  25.667731\n",
       "4   166.9    75.6  Male  27.139955"
      ]
     },
     "execution_count": 19,
     "metadata": {},
     "output_type": "execute_result"
    }
   ],
   "source": [
    "def bmiCalc(weight,height):\n",
    "    return weight / (height/100)**2\n",
    "\n",
    "bmiDataset['BMI'] = bmiCalc(bmiDataset['Weight'],bmiDataset['Height'])\n",
    "\n",
    "bmiDataset.head()"
   ]
  },
  {
   "cell_type": "markdown",
   "metadata": {},
   "source": [
    "### Sidebar: Using .apply()\n",
    "\n",
    "We can also apply something to each row using pandas .apply() function. This is slower."
   ]
  },
  {
   "cell_type": "code",
   "execution_count": 22,
   "metadata": {},
   "outputs": [
    {
     "data": {
      "text/html": [
       "<div>\n",
       "<style scoped>\n",
       "    .dataframe tbody tr th:only-of-type {\n",
       "        vertical-align: middle;\n",
       "    }\n",
       "\n",
       "    .dataframe tbody tr th {\n",
       "        vertical-align: top;\n",
       "    }\n",
       "\n",
       "    .dataframe thead th {\n",
       "        text-align: right;\n",
       "    }\n",
       "</style>\n",
       "<table border=\"1\" class=\"dataframe\">\n",
       "  <thead>\n",
       "    <tr style=\"text-align: right;\">\n",
       "      <th></th>\n",
       "      <th>Height</th>\n",
       "      <th>Weight</th>\n",
       "      <th>Sex</th>\n",
       "      <th>BMI</th>\n",
       "      <th>BMI2</th>\n",
       "    </tr>\n",
       "  </thead>\n",
       "  <tbody>\n",
       "    <tr>\n",
       "      <th>0</th>\n",
       "      <td>173.5</td>\n",
       "      <td>88.3</td>\n",
       "      <td>Male</td>\n",
       "      <td>29.333355</td>\n",
       "      <td>29.333355</td>\n",
       "    </tr>\n",
       "    <tr>\n",
       "      <th>1</th>\n",
       "      <td>183.0</td>\n",
       "      <td>86.5</td>\n",
       "      <td>Male</td>\n",
       "      <td>25.829377</td>\n",
       "      <td>25.829377</td>\n",
       "    </tr>\n",
       "    <tr>\n",
       "      <th>2</th>\n",
       "      <td>172.6</td>\n",
       "      <td>71.3</td>\n",
       "      <td>Male</td>\n",
       "      <td>23.933596</td>\n",
       "      <td>23.933596</td>\n",
       "    </tr>\n",
       "    <tr>\n",
       "      <th>3</th>\n",
       "      <td>178.3</td>\n",
       "      <td>81.6</td>\n",
       "      <td>Male</td>\n",
       "      <td>25.667731</td>\n",
       "      <td>25.667731</td>\n",
       "    </tr>\n",
       "    <tr>\n",
       "      <th>4</th>\n",
       "      <td>166.9</td>\n",
       "      <td>75.6</td>\n",
       "      <td>Male</td>\n",
       "      <td>27.139955</td>\n",
       "      <td>27.139955</td>\n",
       "    </tr>\n",
       "  </tbody>\n",
       "</table>\n",
       "</div>"
      ],
      "text/plain": [
       "   Height  Weight   Sex        BMI       BMI2\n",
       "0   173.5    88.3  Male  29.333355  29.333355\n",
       "1   183.0    86.5  Male  25.829377  25.829377\n",
       "2   172.6    71.3  Male  23.933596  23.933596\n",
       "3   178.3    81.6  Male  25.667731  25.667731\n",
       "4   166.9    75.6  Male  27.139955  27.139955"
      ]
     },
     "execution_count": 22,
     "metadata": {},
     "output_type": "execute_result"
    }
   ],
   "source": [
    "def bmiCalc2(wholeRow):\n",
    "    return wholeRow['Weight'] / (wholeRow['Height']/100)**2\n",
    "\n",
    "# apply the bmiCalc2 function to every row of the bmiDataset frame\n",
    "# axis = 1 means \"apply to every row\", whereas axis = 0 would mean \"apply to every column\"\n",
    "bmiDataset['BMI2'] = bmiDataset.apply(bmiCalc2, axis=1)\n",
    "\n",
    "bmiDataset.head()"
   ]
  },
  {
   "cell_type": "markdown",
   "metadata": {},
   "source": [
    "### Sidebar: Using .apply() with lambda\n",
    "\n",
    "We also sometimes need to use a lambda function with .apply. You'll see this later when we loop through a dataframe in which every row is a geographic area and we want to count how many things (cell towers) are in the area. Here's an example."
   ]
  },
  {
   "cell_type": "code",
   "execution_count": null,
   "metadata": {},
   "outputs": [],
   "source": [
    "bmiDataset['BMI3'] = bmiDataset.apply(lambda wholeRow:wholeRow['Weight'] / (wholeRow['Height']/100)**2, axis=1)\n",
    "\n",
    "bmiDataset.head()"
   ]
  },
  {
   "cell_type": "markdown",
   "metadata": {},
   "source": [
    "### Dropping a Column\n",
    "\n",
    "Now, let's drop these experimental columns we just created."
   ]
  },
  {
   "cell_type": "code",
   "execution_count": null,
   "metadata": {},
   "outputs": [],
   "source": [
    "bmiDataset = bmiDataset.drop(['BMI2', 'BMI3'], axis=1)\n",
    "\n",
    "bmiDataset.head()"
   ]
  },
  {
   "cell_type": "markdown",
   "metadata": {},
   "source": [
    "## IV. Creating Categorical Data from Numerical Data\n",
    "\n",
    "In addition to making a new column (a new feature) that is numerical, sometimes we want to create a categorical column. For example, perhaps we want to break humans in our dataset into categories of Short, Average, and Tall based on their height.\n",
    "\n",
    "The following code will do that breakdown for us pretty quickly with this standard in mind.\n",
    "\n",
    "|Range|Label|\n",
    "|-----|-----|\n",
    "|< 5.3 feet|'short'|\n",
    "|5.4 ft - 5.7 ft|'average'|\n",
    "|5.8 to 6 ft >|'tall'|\n",
    "|6.1 ft >|'extra tall'|"
   ]
  },
  {
   "cell_type": "code",
   "execution_count": null,
   "metadata": {},
   "outputs": [],
   "source": [
    "# note - 12 for inches in a foot, 2.54 for cm in an inch\n",
    "# these are the bin edges; we just made the last edge super high\n",
    "bins=[0, 5.3*12*2.54, 5.7*12*2.54, 6*12*2.54, 500000]\n",
    "# define the labels for our bins\n",
    "labels=['Short', 'Average', 'Tall', 'Extra Tall']\n",
    "# create a column called \"Height Group\" and populate it with each \n",
    "# row cut into one of the bins using pd.cut()\n",
    "bmiDataset['Height_Group'] = pd.cut(bmiDataset['Height'], bins, labels=labels)\n",
    "\n",
    "bmiDataset.head()"
   ]
  },
  {
   "cell_type": "markdown",
   "metadata": {},
   "source": [
    "Nice!  We're able to now divide folks into categories that contain multiple people based on height.\n",
    "\n",
    "Now it's your turn. Let's do something with the BMI you calculated.\n",
    "\n",
    "### Exercise 1: Creating BMI Bins\n",
    "\n",
    "Generally, BMI is interpreted this way:\n",
    "\n",
    "|BMI|Weight Classification|\n",
    "| --- | ----------- |\n",
    "|Below 18.5|Underweight|\n",
    "|18.5-24.9|Normal|\n",
    "|25.0-29.9|Overweight|\n",
    "|30.0 or Higher|Obesity|\n",
    "\n",
    "Go ahead and create a new column called \"BMI_Group\" and populate it with the weight classification (e.g., Underweight) based on the BMI you calculated."
   ]
  },
  {
   "cell_type": "code",
   "execution_count": null,
   "metadata": {},
   "outputs": [],
   "source": [
    "# a. Define your Bins for the four categories of BMI\n",
    "\n",
    "\n",
    "# b. Define your labels\n",
    "\n",
    "\n",
    "# c. Use .cut() to break the dataset into bins\n",
    "\n",
    "\n",
    "# d. Show the head\n",
    "\n"
   ]
  },
  {
   "cell_type": "markdown",
   "metadata": {},
   "source": [
    "You've done a lot so far - you read in a workbook from an excel file. You added a column for Sex populated with \"Male\" because the workbook didn't have a column for Sex. Then you calculated the BMI for each member of the set. Then you classified each row in several height categories. Then you classified each row in terms of BMI weight classification.\n",
    "\n",
    "### Exercise 2: Putting it all Together\n",
    "\n",
    "For this exercise, you will read in the second workbook of the spreadsheet (Females). To complete each subtask, you'll want to break the next section into additional parts to allow for seeing output. Edit -> Split Cell will help."
   ]
  },
  {
   "cell_type": "code",
   "execution_count": null,
   "metadata": {},
   "outputs": [],
   "source": [
    "# a. Read in the second spreadsheet workbook into a data frame then show the head."
   ]
  },
  {
   "cell_type": "code",
   "execution_count": null,
   "metadata": {},
   "outputs": [],
   "source": [
    "# b. Add a column for Sex populated with \"Female\" then show the head."
   ]
  },
  {
   "cell_type": "code",
   "execution_count": null,
   "metadata": {},
   "outputs": [],
   "source": [
    "# c. Add a column for Height Category using the same categories \n",
    "# as we did above using .cut() then show the head.\n",
    "\n",
    "# d. Add a column for BMI using your function and .apply(), then show the head.\n",
    "\n",
    "# e. Add a column for BMI Category using .cut(), then show the head.\n",
    "\n",
    "# f. Join your two dataframes into one df called \"fullFrame\" \n",
    "# using pd.concat() then do tail() on it\n",
    "# https://pandas.pydata.org/docs/reference/api/pandas.concat.html\n",
    "\n",
    "# Note - be sure your columns for height and width are named the same thing \n",
    "# in both male and female dataframes or else you'll end up\n",
    "# with extra columns almost named the same thing\n",
    "# this is the way excel will often be - inconsistent naming by people in \n",
    "# a business setting"
   ]
  },
  {
   "cell_type": "markdown",
   "metadata": {},
   "source": [
    "Excellent. After completing Exercise 2 you will have one data frame that contains your data. \n",
    "\n",
    "## V. Writing Back to Excel\n",
    "\n",
    "### Writing a New File\n",
    "\n",
    "First, let's write back to a new Excel spreadsheet and create a workbook that contains our aggregated dataset. NOTE: You may have a different name for your aggregated data frame."
   ]
  },
  {
   "cell_type": "code",
   "execution_count": null,
   "metadata": {},
   "outputs": [],
   "source": [
    "fullFrame.to_excel('soldiers_combined.xlsx', sheet_name='Male_And_Female')"
   ]
  },
  {
   "cell_type": "markdown",
   "metadata": {},
   "source": [
    "### Appending to an Existing File\n",
    "\n",
    "Then, let's write back the single sex tab for males to our new Excel spreadsheet."
   ]
  },
  {
   "cell_type": "code",
   "execution_count": null,
   "metadata": {},
   "outputs": [],
   "source": [
    "path = 'soldiers_combined.xlsx'\n",
    "writer = pd.ExcelWriter(path, engine='openpyxl', mode='a')\n",
    "bmiDataset.to_excel(writer, sheet_name='Males')\n",
    "writer.close()"
   ]
  },
  {
   "cell_type": "markdown",
   "metadata": {},
   "source": [
    "To check that this worked, please open the resulting file with Excel.\n",
    "\n",
    "### Exercise 3: Appending\n",
    "\n",
    "To practice, add the single sex tab for females to our combined file.\n"
   ]
  },
  {
   "cell_type": "code",
   "execution_count": null,
   "metadata": {},
   "outputs": [],
   "source": []
  },
  {
   "cell_type": "markdown",
   "metadata": {},
   "source": [
    "## VI. Plotting\n",
    "\n",
    "The basic library for plotting is matplotlib, but it is pretty cranky to use. First, we'll do some work with seaborn, a library built on top of matplotlib that is a little more user friendly."
   ]
  },
  {
   "cell_type": "markdown",
   "metadata": {},
   "source": [
    "### Set Seaborn Styles"
   ]
  },
  {
   "cell_type": "code",
   "execution_count": null,
   "metadata": {},
   "outputs": [],
   "source": [
    "# use the seaborn default styles\n",
    "sns.set()\n",
    "\n",
    "# use a white grid in the background\n",
    "sns.set_style(\"whitegrid\")\n"
   ]
  },
  {
   "cell_type": "markdown",
   "metadata": {},
   "source": [
    "### 1. Histogram"
   ]
  },
  {
   "cell_type": "code",
   "execution_count": null,
   "metadata": {},
   "outputs": [],
   "source": [
    "plt.title(\"Histogram - Height of Males\")\n",
    "plt.xlabel(\"Height (cm)\")\n",
    "plt.ylabel(\"Count\")\n",
    "\n",
    "# note the semicolon - it stops matplotlib from outputting ugly text about\n",
    "# the graph. We set a \"bin width\" of 2 cm\n",
    "sns.histplot(data = bmiDataset\n",
    "             ,x = 'Height'\n",
    "             ,binwidth=2);"
   ]
  },
  {
   "cell_type": "markdown",
   "metadata": {},
   "source": [
    "#### Exercise 4: Height of Females\n",
    "Please create a histogram of the height of females with a bin width of 1 cm."
   ]
  },
  {
   "cell_type": "code",
   "execution_count": null,
   "metadata": {},
   "outputs": [],
   "source": []
  },
  {
   "cell_type": "markdown",
   "metadata": {},
   "source": [
    "### 2. Barplot"
   ]
  },
  {
   "cell_type": "code",
   "execution_count": null,
   "metadata": {},
   "outputs": [],
   "source": [
    "# barplot with an error bar showing the standard deviation\n",
    "sns.barplot(data = fullFrame\n",
    "            ,x = 'Sex'\n",
    "            ,y = 'Height'\n",
    "            ,hue = 'Sex'\n",
    "            ,errorbar=\"sd\");"
   ]
  },
  {
   "cell_type": "markdown",
   "metadata": {},
   "source": [
    "#### Exercise 5: Bar Plot Comparing Weight\n",
    "Please create a bar plot comparing the weight of males and females."
   ]
  },
  {
   "cell_type": "code",
   "execution_count": null,
   "metadata": {},
   "outputs": [],
   "source": []
  },
  {
   "cell_type": "markdown",
   "metadata": {},
   "source": [
    "### 3. Box Plot"
   ]
  },
  {
   "cell_type": "code",
   "execution_count": null,
   "metadata": {},
   "outputs": [],
   "source": [
    "sns.boxplot(data = fullFrame\n",
    "            ,x = 'Sex'\n",
    "            ,y = 'Height'\n",
    "            ,hue = 'Sex');"
   ]
  },
  {
   "cell_type": "markdown",
   "metadata": {},
   "source": [
    "#### Exercise 6: Box Plot of Weight\n",
    "Please create a box plot of the weight of males and females."
   ]
  },
  {
   "cell_type": "code",
   "execution_count": null,
   "metadata": {},
   "outputs": [],
   "source": []
  },
  {
   "cell_type": "markdown",
   "metadata": {},
   "source": [
    "### 4. Scatter Plot"
   ]
  },
  {
   "cell_type": "code",
   "execution_count": null,
   "metadata": {},
   "outputs": [],
   "source": [
    "sns.scatterplot(data = bmiDataset\n",
    "            ,x = 'Height'\n",
    "            ,y = 'Weight');"
   ]
  },
  {
   "cell_type": "markdown",
   "metadata": {},
   "source": [
    "#### Exercise 7: Scatter Plot of Female Weight vs. Height\n",
    "Please create a scatter plot of female weight vs. height."
   ]
  },
  {
   "cell_type": "markdown",
   "metadata": {},
   "source": [
    "### 5. Reg Plot\n",
    "\n",
    "This method is used to plot data and a linear regression model fit."
   ]
  },
  {
   "cell_type": "code",
   "execution_count": null,
   "metadata": {},
   "outputs": [],
   "source": [
    "sns.regplot(data = bmiDataset\n",
    "            ,x = 'Height'\n",
    "            ,y = 'Weight'\n",
    "            ,line_kws={\"color\":\"red\"});"
   ]
  },
  {
   "cell_type": "markdown",
   "metadata": {},
   "source": [
    "#### Exercise 8: Reg Plot of Female Weight vs. Height\n",
    "Please create a reg plot of female weight vs. height. Give it a meaningful title."
   ]
  },
  {
   "cell_type": "code",
   "execution_count": null,
   "metadata": {},
   "outputs": [],
   "source": []
  },
  {
   "cell_type": "markdown",
   "metadata": {},
   "source": [
    "### 6. Facet Plot with Categorical Variable"
   ]
  },
  {
   "cell_type": "code",
   "execution_count": null,
   "metadata": {},
   "outputs": [],
   "source": [
    "grid_layout = sns.FacetGrid(bmiDataset\n",
    "                            ,col=\"Height_Group\"\n",
    "                            ,col_wrap = 2)\n",
    "grid_layout.map(sns.histplot, 'Weight');"
   ]
  },
  {
   "cell_type": "markdown",
   "metadata": {},
   "source": [
    "### 7. Facet Plot with Two Categorical Variables"
   ]
  },
  {
   "cell_type": "code",
   "execution_count": null,
   "metadata": {},
   "outputs": [],
   "source": [
    "grid_layout = sns.FacetGrid(fullFrame\n",
    "                            ,col=\"Sex\"\n",
    "                            ,row=\"BMI_Group\")\n",
    "\n",
    "grid_layout.map(sns.histplot, 'Weight');\n",
    "grid_layout.figure.subplots_adjust(wspace=.5, hspace=.3)"
   ]
  },
  {
   "cell_type": "markdown",
   "metadata": {},
   "source": [
    "### 8. Line Plot\n",
    "\n",
    "For this one, we should load some additional data for which a line plot makes sense. In this case, five years of Amazon stock price."
   ]
  },
  {
   "cell_type": "code",
   "execution_count": null,
   "metadata": {},
   "outputs": [],
   "source": [
    "# Read in the data\n",
    "# Tell Pandas we want to parse the \"Date\" column as a date\n",
    "stockData = pd.read_csv('data/AMZN_5Year_Missing.csv',parse_dates=['Date'])\n",
    "\n",
    "# Check it out\n",
    "stockData.head()\n",
    "\n",
    "plt.title(\"Closing Price - AMZN\")\n",
    "plt.xlabel(\"Date of Close\")\n",
    "plt.ylabel(\"Closing Price (USD)\")\n",
    "# If you want to change the limits of the graph\n",
    "# X shows example with dates, Y with numberical min / max\n",
    "# plt.xlim(datetime.date(2010, 1, 1),datetime.date(2024, 12, 31))\n",
    "# plt.ylim(0,200)\n",
    "sns.lineplot(data = stockData\n",
    "             ,x = 'Date'\n",
    "             ,y = 'Close');\n",
    "\n",
    "\n"
   ]
  },
  {
   "cell_type": "markdown",
   "metadata": {},
   "source": [
    "## VII. The Power of Matplotlib\n",
    "\n",
    "Seaborn is great, but matplotlib is what stands behind it and it is a very powerful library.\n",
    "\n",
    "Since this is stock data, let's plot closing price in one graph and a little graph below showing the trading volume. The trading volume is the number of shares that traded hands that day. \n",
    "\n",
    "All the documentation for matplotlib may be found at https://matplotlib.org/stable/\n",
    "\n",
    "In the below example, we'll be taking the approach of creating a \"figure\" in matplotlib. Think of a figure like a picture frame. Then, we'll be inserting two plots into the grid of the figure. The plots are like putting pictures into the frame.\n",
    "\n",
    "Below, when adding a subplot, the \"Position\" attribute refers to the number in a grid from 1 to N counting from left to right like this:\n",
    "\n",
    "![alt text](https://dsci.msstate.edu/downloads/wrangling/lab4/matplotlib_grid.png)"
   ]
  },
  {
   "cell_type": "code",
   "execution_count": null,
   "metadata": {},
   "outputs": [],
   "source": [
    "# to plot it, since it is a time series, let's make the date the index\n",
    "stockData = stockData.set_index('Date')\n",
    "\n",
    "stockData"
   ]
  },
  {
   "cell_type": "code",
   "execution_count": null,
   "metadata": {},
   "outputs": [],
   "source": [
    "# Undo some of the seaborn style\n",
    "sns.set_style(\"dark\")\n",
    "\n",
    "# First, let's make a simple \"figure\" that is 10 inches wide and 8 inches tall\n",
    "amazonFigure = plt.figure(figsize=(10, 8))\n",
    "amazonFigureTitle = 'Amazon Historical Prices ' + str(stockData.index.min()) + ' to ' + str(stockData.index.max())\n",
    "amazonFigure.suptitle(amazonFigureTitle,fontsize=12)\n",
    "\n",
    "# now, let's add a subplot to it for the Closing Price\n",
    "# 2 rows, 1 column, put it in position 1\n",
    "closingPricePlot = amazonFigure.add_subplot(2, 1, 1)\n",
    "closingPricePlot.plot(stockData.index, stockData['Close'])\n",
    "\n",
    "# and let's add a subplot for the Trading Volume\n",
    "# 2 rows, 1 column, put it position 2\n",
    "volumePlot = amazonFigure.add_subplot(2, 1, 2)\n",
    "volumePlot.bar(stockData.index, stockData['Volume'])\n"
   ]
  }
 ],
 "metadata": {
  "kernelspec": {
   "display_name": "Python 3 (ipykernel)",
   "language": "python",
   "name": "python3"
  },
  "language_info": {
   "codemirror_mode": {
    "name": "ipython",
    "version": 3
   },
   "file_extension": ".py",
   "mimetype": "text/x-python",
   "name": "python",
   "nbconvert_exporter": "python",
   "pygments_lexer": "ipython3",
   "version": "3.11.7"
  }
 },
 "nbformat": 4,
 "nbformat_minor": 4
}
