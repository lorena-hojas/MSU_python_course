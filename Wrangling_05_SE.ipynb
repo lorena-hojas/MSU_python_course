{
 "cells": [
  {
   "cell_type": "markdown",
   "metadata": {
    "id": "K3dcd7EhhvNI"
   },
   "source": [
    "MSU-USDA Python Workshop\n",
    "\n",
    "# Python for Data Science: Geographical Data\n",
    "\n",
    "# Geographical Data\n",
    "\n",
    "Being able to work with data that has a geographical component is an extremely important skill. GIS software is very common, but you can use also Python and a version of pandas called \"Geopandas\" to do analysis in which you align tabular data with geographical data.\n",
    "\n",
    "Where Pandas has \"Data Frames,\" geopandas has \"Geographical Data Frames\" that add one or more geometry columns or geoseries.\n",
    "\n",
    "<img src=\"https://geopandas.org/en/stable/_images/dataframe.svg\"></img>\n",
    "\n",
    "So, if you're using GeoPandas, you'll usually have a normal pandas dataframe (dataframes are collections of pandas series) and you'll have one or more GeoPandas geoseries columns. \n",
    "\n",
    "The Geopandas site is here: https://geopandas.org/en/stable/\n",
    "\n",
    "# I. Importing Libraries\n",
    "\n",
    "First, let's import the libraries needed."
   ]
  },
  {
   "cell_type": "code",
   "execution_count": null,
   "metadata": {},
   "outputs": [],
   "source": [
    "# Import the necessary libraries for Data Wrangling\n",
    "import pandas as pd\n",
    "import numpy as np\n",
    "\n",
    "# Matplot Lib is for drawing plots, graphs, etc. and Seaborn is another package\n",
    "# that makes matplotlib easier to use and create more attractive graphics\n",
    "import matplotlib.pyplot as plt \n",
    "import matplotlib.image as mpimg \n",
    "import seaborn as sns \n",
    "\n",
    "# Import geopandas\n",
    "import geopandas as gpd\n"
   ]
  },
  {
   "cell_type": "markdown",
   "metadata": {
    "id": "K3dcd7EhhvNI"
   },
   "source": [
    "# II. Loading a ShapeFile\n",
    "\n",
    "Most of the time you'll probably start a geo-analysis with some kind of shapefile. Three components are mandatory: \n",
    "- a main file that contains the feature geometry (.shp),\n",
    "- an index file that stores the index of the feature geometry (.shx), and\n",
    "- a dBASE table (.dbf) that stores the attribute information of features.\n",
    "\n",
    "This lab will use data from the [Mississippi Automated Resource Information System (MARIS)](https://maris.mississippi.edu/HTML/Data.html) website that contains shapefiles for many things.\n",
    "\n",
    "Other states in the US have great geoportals too. Take [California's site](https://gis.data.ca.gov/), for example: \n",
    "\n",
    "Let's load the Mississippi congressional district shapefile. "
   ]
  },
  {
   "cell_type": "code",
   "execution_count": null,
   "metadata": {},
   "outputs": [],
   "source": [
    "# load the file\n",
    "msCongress = gpd.read_file(\"data/MS_CongressionalDistricts_2022/MS_CongressionalDistricts_2022.shp\")\n",
    "\n",
    "# check it out just like you would with pandas\n",
    "msCongress.shape"
   ]
  },
  {
   "cell_type": "markdown",
   "metadata": {},
   "source": [
    "Notice that there are 4 rows. Mississippi has four congressional districts, so that makes sense.\n",
    "\n",
    "Let's look at the data."
   ]
  },
  {
   "cell_type": "code",
   "execution_count": null,
   "metadata": {},
   "outputs": [],
   "source": [
    "msCongress.head(4)"
   ]
  },
  {
   "cell_type": "markdown",
   "metadata": {},
   "source": [
    "Each row is a different congressional district and you can see normal tabular data such as the name of the congressional representative on each row. \n",
    "\n",
    "Scroll to the right and check out the \"geometry\" column. It contains a polygon defined by as many points as it takes to describe the shape of the district. Since there was just one geometry column, geopandas made that one the \"active geometry column.\" You can have more than one column that contains geometry, but only one active at a time. That list of points looks weird and it doesn't look like latitude and longitude. That's because it is using a state projection system.\n",
    "\n",
    "# III. Projections\n",
    "\n",
    "Every map has a projection; it's how we take something on a spherical earth and flatten it out. Let's see which projection our data from MARIS uses:"
   ]
  },
  {
   "cell_type": "code",
   "execution_count": null,
   "metadata": {},
   "outputs": [],
   "source": [
    "# .crs for 'coordinate reference system'\n",
    "msCongress.crs"
   ]
  },
  {
   "cell_type": "markdown",
   "metadata": {},
   "source": [
    "Notice that it's called EPSG:3814 (first line).\n",
    "\n",
    "The Coordinate Reference System (CRS) tells GeoPandas where the coordinates of the geometries are located on the earth’s surface. In some cases, the CRS is geographic, which means that the coordinates are in latitude and longitude.\n",
    "\n",
    "NAD83 (second line) is the national reference system used for georeferencing by most federal and provincial/state agencies in Canada and the U.S. \n",
    "\n",
    "A more common one you'll experience in other data is WGS84 - the default \"native\" system used by the Global Positioning System (GPS) and commercial GPS receivers.\n",
    "\n",
    "Finally, a very important thing, is that the projection uses meters for distance (Axis Info).\n",
    "\n",
    "# IV. Visualizing the Plot\n",
    "\n",
    "Let's visualize the districts and color code them by that \"AREA\" column."
   ]
  },
  {
   "cell_type": "code",
   "execution_count": null,
   "metadata": {},
   "outputs": [],
   "source": [
    "msCongress.plot(\"AREA\", legend=True)"
   ]
  },
  {
   "cell_type": "markdown",
   "metadata": {},
   "source": [
    "Hey, that looks just like Mississsippi. We just have loaded the correct file and everything geographical is in square meters and it uses the state reference system.\n",
    "\n",
    "We could change the coordinate reference system to the more common one used by GPS (4326)."
   ]
  },
  {
   "cell_type": "code",
   "execution_count": null,
   "metadata": {},
   "outputs": [],
   "source": [
    "# convert the CRS\n",
    "msCongress = msCongress.to_crs(\"EPSG:4326\")\n",
    "\n",
    "# show it again\n",
    "msCongress.plot(\"AREA\", legend=True)"
   ]
  },
  {
   "cell_type": "code",
   "execution_count": null,
   "metadata": {},
   "outputs": [],
   "source": [
    "# what does the CRS look like?\n",
    "msCongress.crs"
   ]
  },
  {
   "cell_type": "markdown",
   "metadata": {},
   "source": [
    "Notice that the Axis info is in degrees now, not meters. We went from rectangular to polar coordinates, essentially."
   ]
  },
  {
   "cell_type": "code",
   "execution_count": null,
   "metadata": {},
   "outputs": [],
   "source": [
    "# Let's see the data\n",
    "msCongress"
   ]
  },
  {
   "cell_type": "markdown",
   "metadata": {},
   "source": [
    "That geometry column is looking much more like we'd expect - a set of latitude/longitude pairs for the points."
   ]
  },
  {
   "cell_type": "markdown",
   "metadata": {},
   "source": [
    "# V. Calculating Area\n",
    "\n",
    "Geopandas makes it easy to find the area of any geometry. \n",
    "\n",
    "What's the area of each district? Let's pretend there wasn't already an \"AREA\" column and see how easy it is to calculate it. We can add a column that contains it.\n",
    "\n",
    "GeoDataFrame.area is just GeoSeries.area applied to the active geometry column."
   ]
  },
  {
   "cell_type": "code",
   "execution_count": null,
   "metadata": {},
   "outputs": [],
   "source": [
    "msCongress[\"calculatedArea\"] = msCongress.area\n"
   ]
  },
  {
   "cell_type": "markdown",
   "metadata": {},
   "source": [
    "Oh wow, we got our first projection warning. Right now we're still in EPSG:4326 which is all about geography and mapping. We need to convert back to the coordinate system using rectangular coordinates (in meters, not degrees) before we can get accurate estimates of area."
   ]
  },
  {
   "cell_type": "code",
   "execution_count": null,
   "metadata": {},
   "outputs": [],
   "source": [
    "# convert back\n",
    "msCongress = msCongress.to_crs(\"EPSG:3814\")\n",
    "\n",
    "# now we can try to calculate area again\n",
    "msCongress[\"calculatedArea\"] = msCongress.area\n",
    "\n",
    "msCongress"
   ]
  },
  {
   "cell_type": "markdown",
   "metadata": {},
   "source": [
    "Nice! No errors or warnings.\n",
    "\n",
    "Do you see our new column, \"calculatedArea\"? Geopandas uses this projection's units (meters) for area and distance. The existing database had an informational column called AREA with a different number. Can you figure out what units it uses?\n",
    "\n",
    "I think it uses square miles, even though the data dictionary says this is supposed to be square kilometers.\n",
    "\n",
    "### Exercise 1: Units and Interpreting the Data\n",
    "\n",
    "Answer the following questions; you won't need python for this:"
   ]
  },
  {
   "cell_type": "code",
   "execution_count": null,
   "metadata": {},
   "outputs": [],
   "source": [
    "# a. What units are used by the file we downloaded from MARIS \n",
    "# for the area of each congressional district?\n",
    "# Put Answer Here: \n",
    "\n",
    "# b. Which member of congress serves the largest geographical district?\n",
    "# Put Answer Here: \n",
    "\n",
    "# c. Do a google search and figure out why geopandas gave us that warning \n",
    "# \"Geometry is in a geographic CRS. Results from 'area' are likely incorrect.\"\n",
    "# Why does it make a difference?\n",
    "# Put Answer Here: "
   ]
  },
  {
   "cell_type": "markdown",
   "metadata": {},
   "source": [
    "# VI. Centroids\n",
    "\n",
    "A \"centroid\" is the point at the center of a geometric shape. Very often if you're dealing with geographical data you need a point to define so you can calculate distances relative to it. For example, the centroid of county is a good way to figure out how central some other point is relative to it.\n",
    "\n",
    "Let's add a column with the centroid of each district.\n"
   ]
  },
  {
   "cell_type": "code",
   "execution_count": null,
   "metadata": {},
   "outputs": [],
   "source": [
    "# add centroid column\n",
    "msCongress['centroid'] = msCongress.centroid\n",
    "\n",
    "# let's view two columns - our district number and its centroid\n",
    "#\n",
    "# look at this cool loc syntax\n",
    "# we're saying give me all the rows min:max, if just \":\" it means everything.\n",
    "# if we had put 1:3 it would be the range of rows from 1 to 3\n",
    "# and then we said, just give us the two columns ID and distance.\n",
    "msCongress.loc[:, ['ID', 'centroid']]\n"
   ]
  },
  {
   "cell_type": "markdown",
   "metadata": {},
   "source": [
    "So, the Mississippi 2nd district has a centroid at point 434797.571, 1348954.177.\n",
    "\n",
    "# VII. Calculating Distance\n",
    "\n",
    "For each district, let's figure out how far its centroid is from the centroid of District 1.\n"
   ]
  },
  {
   "cell_type": "code",
   "execution_count": null,
   "metadata": {},
   "outputs": [],
   "source": [
    "# get the centroid point where index is 0\n",
    "centroidOfDistrict1 =  msCongress['centroid'].iloc[0]\n",
    "\n",
    "# add a column that, for each row, contains distance between that\n",
    "# row's centroid and the centroid of the first district.\n",
    "msCongress['distance'] = msCongress['centroid'].distance(centroidOfDistrict1)\n",
    "\n",
    "# show the district ID and our distance column\n",
    "msCongress.loc[:, ['ID', 'distance']]"
   ]
  },
  {
   "cell_type": "markdown",
   "metadata": {},
   "source": [
    "Perfect - we can see that the distance between district one's centroid and itself is 0. That makes sense.\n",
    "\n",
    "The center of MS four (ID=4) is the farthest from MS one (ID=1)."
   ]
  },
  {
   "cell_type": "markdown",
   "metadata": {},
   "source": [
    "# VIII. Showing Boundaries\n",
    "\n",
    "Let's calculate the boundary of each district. A boundary is a line, unlike a polygon which is a shape. Boundaries don't even have to connect to form a continuous loop.\n"
   ]
  },
  {
   "cell_type": "code",
   "execution_count": null,
   "metadata": {},
   "outputs": [],
   "source": [
    "msCongress['boundary'] = msCongress.boundary\n",
    "\n",
    "msCongress"
   ]
  },
  {
   "cell_type": "markdown",
   "metadata": {},
   "source": [
    "The boundary is saved as a \"line string\" and now our geodata frame has two geometry columns. The difference between a line string and the polygon of the original geometry column is that line strings may or may not connect to form an enclosed area. In this case they are equivalent since our line represents the county's polygon.\n",
    "\n",
    "# IX. Different Geometries\n",
    "\n",
    "What if we just want to plot the centroids? We need to tell geopandas which column to use for geometry."
   ]
  },
  {
   "cell_type": "code",
   "execution_count": null,
   "metadata": {},
   "outputs": [],
   "source": [
    "msCongress = msCongress.set_geometry(\"centroid\")\n",
    "msCongress.plot(\"AREA\", legend=True)"
   ]
  },
  {
   "cell_type": "markdown",
   "metadata": {},
   "source": [
    "We could also plot two geometries together. For example, the centroid and the shapes. In this case the shapes of the districts will be an \"axis\" for the points."
   ]
  },
  {
   "cell_type": "code",
   "execution_count": null,
   "metadata": {},
   "outputs": [],
   "source": [
    "shapes = msCongress[\"geometry\"].plot(figsize=(10, 10))\n",
    "\n",
    "msCongress[\"centroid\"].plot(ax=shapes, color=\"black\", figsize=(10, 10))\n"
   ]
  },
  {
   "cell_type": "markdown",
   "metadata": {},
   "source": [
    "# X. Creating a Buffer Geometry\n",
    "\n",
    "How about we buffer our centroids so that they extend out 10,000 meters in all directions? Maybe we are trying to figure out a fuzzy boundary where we want the policians in each district to overlap in their concerns. But a more realistic scenario would be to figure out what businesses are within a certain distance from a river, so you can build a buffer."
   ]
  },
  {
   "cell_type": "code",
   "execution_count": null,
   "metadata": {},
   "outputs": [],
   "source": [
    "# Let's set our geometry column back to the shapes\n",
    "msCongress = msCongress.set_geometry(\"geometry\")\n",
    "\n",
    "# buffering the active geometry by 10,000 meters \n",
    "msCongress[\"buffered\"] = msCongress.buffer(10000)\n",
    "\n",
    "# buffering the centroid geometry by 30,000 meters\n",
    "msCongress[\"buffered_centroid\"] = msCongress[\"centroid\"].buffer(30000)\n",
    "\n",
    "# saving the first plot as an axis and setting alpha (transparency) to 0.5\n",
    "ax = msCongress[\"buffered\"].plot(alpha=.5, figsize=(15, 15))  \n",
    "\n",
    "# passing the first plot as an axis to the second\n",
    "msCongress[\"buffered_centroid\"].plot(ax=ax, color=\"red\", alpha=.5, figsize=(15, 15))  \n",
    "\n",
    "# passing the first plot and setting linewitdth to 0.5\n",
    "# and we can use the boundary now that we created above\n",
    "msCongress[\"boundary\"].plot(ax=ax, color=\"white\", linewidth=.5, figsize=(15, 15))  \n",
    "\n",
    "# Let's put the number of the district as a label using .apply to\n",
    "# stick the label as an annotation in the centroid location for each \n",
    "# district\n",
    "msCongress.apply(lambda x: ax.annotate(text=x['ID'], xy=x.geometry.centroid.coords[0], ha='center'), axis=1);"
   ]
  },
  {
   "cell_type": "markdown",
   "metadata": {},
   "source": [
    "# XI. Finding Relationships Between Geographies\n",
    "\n",
    "Let's see if one of our districts overlaps any other buffered districts (e.g., is within 10,000 meters of another district)."
   ]
  },
  {
   "cell_type": "code",
   "execution_count": null,
   "metadata": {},
   "outputs": [],
   "source": [
    "# grab out district 2\n",
    "\n",
    "# remember that the index of district 2 is \"1\". \"2\" is in the ID column but\n",
    "# that's not the index\n",
    "district2 = msCongress.loc[1, \"geometry\"]\n",
    "district2"
   ]
  },
  {
   "cell_type": "code",
   "execution_count": null,
   "metadata": {},
   "outputs": [],
   "source": [
    "# use the geopandas \"intersects\" method to see\n",
    "# if any of the buffered districts intersects \n",
    "# district 2\n",
    "msCongress[\"buffered\"].intersects(district2)"
   ]
  },
  {
   "cell_type": "markdown",
   "metadata": {},
   "source": [
    "Cool, right? We can see that 1,2, and 3 intersect 2, but 2 doesn't intersect the fourth congressional district.\n",
    "\n",
    "## Using Two Geo DataFrames\n",
    "\n",
    "Let's now load up information on communication infrastructure. In this case, cell towers. This data was updated in 2024 and came from the [MARIS page](https://maris.mississippi.edu/HTML/DATA/data_UtilityTelecom/FCCCellTowers.html)."
   ]
  },
  {
   "cell_type": "code",
   "execution_count": null,
   "metadata": {},
   "outputs": [],
   "source": [
    "msCellTowers = gpd.read_file(\"data/MS_CellTowers_2024/MS_CellTowers_2024.shp\")\n",
    "\n",
    "msCellTowers"
   ]
  },
  {
   "cell_type": "markdown",
   "metadata": {},
   "source": [
    "Let's check to be sure the towers are in the same coordinate system as our districts."
   ]
  },
  {
   "cell_type": "code",
   "execution_count": null,
   "metadata": {},
   "outputs": [],
   "source": [
    "msCellTowers.crs\n"
   ]
  },
  {
   "cell_type": "markdown",
   "metadata": {},
   "source": [
    "Nice, EPSG:3814 is exactly what we're using with our congressional districts.\n",
    "    \n",
    "First, let's plot our cell towers together with our congressional districts and boundaries."
   ]
  },
  {
   "cell_type": "code",
   "execution_count": null,
   "metadata": {},
   "outputs": [],
   "source": [
    "# saving the first plot as an axis and setting alpha (transparency) to 0.5\n",
    "ax = msCongress[\"geometry\"].plot(alpha=.5, figsize=(15, 15))  \n",
    "\n",
    "# passing the first plot as an axis to the second\n",
    "msCellTowers[\"geometry\"].plot(ax=ax, color=\"black\", alpha=.5, figsize=(15, 15))  \n",
    "\n",
    "# passing the first plot and setting linewitdth to 0.5\n",
    "# and we can use the boundary now that we created above\n",
    "msCongress[\"boundary\"].plot(ax=ax, color=\"white\", linewidth=.5, figsize=(15, 15))  \n",
    "\n",
    "# Let's put the number of the district as a label using .apply to\n",
    "# stick the label as an annotation in the centroid location for each \n",
    "# district\n",
    "msCongress.apply(lambda x: ax.annotate(text=x['ID'], xy=x.geometry.centroid.coords[0], ha='center'), axis=1);"
   ]
  },
  {
   "cell_type": "markdown",
   "metadata": {},
   "source": [
    "## Counting Things in Things\n",
    "\n",
    "Let's find geographical things in things.\n",
    "\n",
    "How many cell towers are in district two?\n",
    "\n",
    "Well, let's add a column and figure that out."
   ]
  },
  {
   "cell_type": "code",
   "execution_count": null,
   "metadata": {},
   "outputs": [],
   "source": [
    "msCellTowers['isInDistrictTwo'] = msCellTowers[\"geometry\"].intersects(district2)\n",
    "\n",
    "msCellTowers"
   ]
  },
  {
   "cell_type": "markdown",
   "metadata": {},
   "source": [
    "Cool, we have a column. Let's use it to find out how many we have in district 2. That is, for how many rows is there a \"true\" in the \"isInDistrictTwo\" column?"
   ]
  },
  {
   "cell_type": "code",
   "execution_count": null,
   "metadata": {},
   "outputs": [],
   "source": [
    "numInTwo = msCellTowers.query(\"isInDistrictTwo == True\").shape[0]\n",
    "\n",
    "print(f\"There are {numInTwo} cell towers in District Two\")"
   ]
  },
  {
   "cell_type": "markdown",
   "metadata": {},
   "source": [
    "# Exercise 2: Putting it All Together"
   ]
  },
  {
   "cell_type": "code",
   "execution_count": null,
   "metadata": {},
   "outputs": [],
   "source": [
    "## Exercise 2: Putting it All Together\n",
    "\n",
    "# STATE SHAPE\n",
    "# Visit this page on the MARIS site: \n",
    "# https://maris.mississippi.edu/HTML/DATA/Boundaries.html#gsc.tab=0\n",
    "# and choose the state boundary file\n",
    "\n",
    "# a. download it, load it up here with geopandas\n",
    "\n",
    "# b. Show the CRS\n",
    "\n",
    "# c. display a plot of it. This should just be the MS state boundary.\n",
    "\n",
    "# d. calculate the area of MS and output this here with proper units\n",
    "# e.g., \"Mississippi is [X] square [units]\"\n",
    "\n",
    "# d.2 does this value make sense when comparing with online info?\n",
    "# put answer here: \n",
    "\n",
    "# e. create a column that has the outline of MS\n",
    "\n",
    "# SUB-BOUNDARIES\n",
    "# On the same web page, download a sub-boundary of your choice from\n",
    "# something that has districts or subdivisions. Examples would include\n",
    "# courts, wildlife, tribal boundaries, zip codes, etc.\n",
    "# Note: in the video, your instructor chose zip codes\n",
    "\n",
    "# f. Type here which one you chose: \n",
    "\n",
    "# g. download it, load it up here with geopandas\n",
    "\n",
    "# h. Show its CRS and make sure it is the same as the state boundary\n",
    "\n",
    "# i. display a plot of it on top of the *outline* of Mississippi and\n",
    "# put a label in the centroid of each sub-divided shape\n",
    "\n",
    "# j. add a column to your sub-boundary dataframe that contains the centroid\n",
    "# of each thing and print out the name of the thing and its centroid column\n",
    "\n",
    "# FEATURES OR INFRASTRUCTURE\n",
    "# Go to this page on the MARIS site: \n",
    "# https://maris.mississippi.edu/HTML/DATA/Utility.html#gsc.tab=0\n",
    "# Choose something other than the location of cell towers\n",
    "# and download the file.\n",
    "# Note: in the video, your instructor chose power plants\n",
    "\n",
    "# k. Type here which one you chose: \n",
    "\n",
    "# l. Download it, load it up here with geopandas\n",
    "\n",
    "# m. Show its CRS and make sure it is the same as the state boundary\n",
    "\n",
    "# n. Display a plot of it on top of the outline of Mississippi and on top of\n",
    "# the shapes of your subdivision.\n",
    "\n",
    "# o. Add a column to your sub-boundary dataframe that, for each \"thing\" \n",
    "# in your sub-boundaries (zip codes, court districts, tribal lands, etc.)\n",
    "# you record the number of infrastructure things intersecting that sub-boundary\n",
    "\n",
    "# p. Output which of your subdivisions contains the most of the things in your\n",
    "# feature or infrastructure data set? \n"
   ]
  },
  {
   "cell_type": "markdown",
   "metadata": {},
   "source": [
    "# XII. What to Learn Next\n",
    "\n",
    "Generally, what you'll need to try next is taking a normal dataframe that has latitude and longitude columns. Then, you can convert this into a geopandas dataframe. Then, since lattitude and longitude are polar coordinates, you'll just assign a CRS to it (EPSG:4326). Then, you'll use to_crs() to convert that frame into rectangular coordinates (EPSG:3814) for more calculations. That's it. You don't have to start from shapefiles."
   ]
  }
 ],
 "metadata": {
  "colab": {
   "collapsed_sections": [],
   "provenance": []
  },
  "kernelspec": {
   "display_name": "Python [conda env:pyworkshop] *",
   "language": "python",
   "name": "conda-env-pyworkshop-py"
  },
  "language_info": {
   "codemirror_mode": {
    "name": "ipython",
    "version": 3
   },
   "file_extension": ".py",
   "mimetype": "text/x-python",
   "name": "python",
   "nbconvert_exporter": "python",
   "pygments_lexer": "ipython3",
   "version": "3.12.3"
  }
 },
 "nbformat": 4,
 "nbformat_minor": 4
}
