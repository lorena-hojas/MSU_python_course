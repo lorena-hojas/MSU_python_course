{
 "cells": [
  {
   "cell_type": "markdown",
   "id": "1768413a-c9cc-4d37-85c9-cfe4eb0704d7",
   "metadata": {},
   "source": [
    "MSU-USDA Python Workshop\n",
    "# Python for Data Science: Getting Started with Python and Pandas"
   ]
  },
  {
   "cell_type": "markdown",
   "id": "a7a10e75-ab62-4798-b547-2b80b1e896be",
   "metadata": {},
   "source": [
    "# I. Importing Necessary Packages\n",
    "The following code will include the packages you'll need for this notebook. Packages are collections of code that adds additional functionality to the core Python.\n",
    "\n",
    "Note: If you're new to Jupyter notebooks, to run the code, just click on the cell below and then click the \"Run\" button above in the menu. You can also use the shortcut of holding down \"shift\" and hitting the return key."
   ]
  },
  {
   "cell_type": "code",
   "execution_count": null,
   "id": "eb74e754-e313-4365-b6f0-ff58f88b352c",
   "metadata": {},
   "outputs": [],
   "source": [
    "# Numpy supports multidimensional arrays and has a lot of math functions.\n",
    "import numpy as np \n",
    "\n",
    "# Pandas is great for tabular data (data in rows and columns)\n",
    "import pandas as pd\n",
    "\n",
    "# Matplot Lib is for drawing plots, graphs, etc. and Seaborn is another package\n",
    "# that makes matplotlib easier to use and create more attractive graphics\n",
    "import matplotlib.pyplot as plt \n",
    "import matplotlib.image as mpimg \n",
    "import seaborn as sns \n",
    "\n",
    "# Geopandas adds geographical analysis capabilities to Pandas - one or more of your\n",
    "# columns can be geographical (points, lines, shapes, etc.)\n",
    "import geopandas as gpd\n",
    "from geopandas import GeoDataFrame \n",
    "\n",
    "# These are built into core python but you have to include them to use them\n",
    "import random \n",
    "import os \n",
    "import json \n",
    "\n",
    "# This package adds the ability to work with Excel files\n",
    "import openpyxl"
   ]
  },
  {
   "cell_type": "markdown",
   "id": "25f179e4-8ec7-4112-a336-ce3042e188c7",
   "metadata": {},
   "source": [
    "# II. Hello World\n",
    "It's traditional for your first code in any language to be a \"hello world.\" So, let's store \"Hello World\" in a variable and then print it out with python. \n",
    "\n",
    "This is a good time to turn on your line numbers through View -> Show Line Numbers.\n",
    "\n",
    "Also, let's experiment with commenting out code using a pound symbol (#). You can also select multiple lines and hit CTRL+/ in windows or Command+/ on Mac."
   ]
  },
  {
   "cell_type": "code",
   "execution_count": null,
   "id": "006beff0-11b3-4ba9-85cc-af3ff15dd66e",
   "metadata": {},
   "outputs": [],
   "source": [
    "myMessage = \"Hello World\"\n",
    "print(myMessage)"
   ]
  },
  {
   "cell_type": "markdown",
   "id": "c0adff65-883b-4551-89d0-90094f11cc50",
   "metadata": {},
   "source": [
    "# III. Python Variables and Types\n",
    "In the previous section we stored the phrase \"Hello World\" in a variable named \"myMessage.\" A variable is a container for data. Variables have *names* and they can contain data of many different *types* (numbers, character strings, etc.)\n",
    "\n",
    "## What Types Does Python Support?\n",
    "Python supports the following types by default:\n",
    "\n",
    "| Kind of Data | Python Types | Examples |\n",
    "| :----------- | :----------- | :----------- |\n",
    "|Text|str|varName = \"I love milkshakes.\"|\n",
    "|Numeric|int, float, complex|varName = 3<br />varName = 3.0<br />varName = 3j|\n",
    "|Sequence|list, tuple, range|varName = [\"chocolate\", \"strawberry\", \"vanilla\"]<br />varName = (\"chocolate\", \"strawberry\", \"vanilla\")<br />varName = range(6)\n",
    "|Mapping|dict|varName = {\"name\" : \"Bully\", \"species\" : \"Dog\"}|\n",
    "|Set|set, frozenset|varName = {\"strawberry\", \"vanilla\", \"chocolate\"}<br />varName = frozenset({\"strawberry\", \"vanilla\", \"chocolate\"})|\n",
    "|Boolean|bool|varName = True|\n",
    "|Binary|bytes, bytearray, memoryview|varName = b\"hello\"<br />varName=bytearray(5)<br />varName=memoryview(bytes(5))|\n",
    "|None|NoneType|varName=None|\n",
    "\n",
    "## Types That Don't Require Explanation\n",
    "If you've programmed in another language, you will probably know what the following types are without any explanation:\n",
    "- Text - str (text goes in what programmers call 'strings')\n",
    "- Numeric - int (integers are counting numbers)\n",
    "- Numeric - float (floating point numbers have a decimal and some amount of precision)\n",
    "- Boolean - bool (boolean values are either True/1 or False/0)\n",
    "\n",
    "## Types That Require Explanation\n",
    "But there are some types that look a little weird at first, so let's walk through them.\n",
    "\n",
    "### Numeric - complex\n",
    "The *complex* type is used to store complex numbers. A complex number take the form a + ib, where a is the real number and ib is the imaginary number. i is the square root of negative one, so we call it \"imaginary.\" One detail - engineers use the convention \"j\" instead of \"i\" for the square root of negative one, so Python follows the engineering convention. We won't be using these in this lab, but if you want to brush up on complex numbers, there's a [great intro at Khan Academy](https://www.khanacademy.org/math/algebra2/x2ec2f6f830c9fb89:complex/x2ec2f6f830c9fb89:imaginary/a/intro-to-the-imaginary-numbers).\n",
    "\n",
    "### Sequences - list [] and tuple ()\n",
    "Lists and tuples (pronounced too-pulls) are used to store lists of things like \"1,2,3,4\" or \"dog,cat,horse,zebra\". The difference is that lists can be changed after you create them (they are *mutable*) and tuples cannot be changed (they are *immutable*). The code below initializes a list and a tuple and illustrates how Python also lets you figure out what type any variable is."
   ]
  },
  {
   "cell_type": "code",
   "execution_count": null,
   "id": "3f8e211d-9f81-4864-a321-2e2de1451af7",
   "metadata": {},
   "outputs": [],
   "source": [
    "# initialize a list with square brackets\n",
    "myList = [8,7,19,9]\n",
    "# initialize a tuple with parentheses\n",
    "myTuple = (8,7,19,9)\n",
    "\n",
    "# print out the type of each\n",
    "print(type(myList))\n",
    "print(type(myTuple))\n",
    "\n",
    "#let's try to change a list; you should have no problem\n",
    "myList[0] = 9\n",
    "\n",
    "# print out that changed list - you'll see a 9 in the first position since you changed it\n",
    "print(myList)\n",
    "\n",
    "# you can also print out just the first member of the tuple or list like this\n",
    "print(myTuple[0])\n",
    "\n",
    "# but, let's try to change a tuple -  you should see an error\n",
    "myTuple[0] = 9\n",
    "\n",
    "# and so because of the error, this line will not execute at all\n",
    "print(myTuple)"
   ]
  },
  {
   "cell_type": "markdown",
   "id": "c19f11fa-37f1-483a-95c9-b447bf55093b",
   "metadata": {},
   "source": [
    "Hey, don't worry about that error - I *knew* that would happen. Notice a few things about that code:\n",
    "- Lists are assigned using square brackets [] and tuples are created using parentheses ()\n",
    "- The type() method returns what type of variable something is (Lines 7 and 8)\n",
    "- I can access an individual member of a list using brackets myList[0] and the number of the item (line 11). In the example above, I assign the first member of the list ([0] - all cool programming languages start counting from zero and not one) a new value and it switches from 8 to 9 when I print it out on line 14. You can access the second member of the list using myList[1], the third with myList[2], and so on. \n",
    "- Tuples are not changeable. Even though I can access the first item using [0] the same way I did with lists (line 17), when I try to change myTuple, I get a \"TypeError\" - because you can can't change tuples once they are created.\n",
    "\n",
    "So, line 20 generates an error because I tried to change a tuple. Tuples exist because they are much faster to process than lists. If you have a list of things that won't change while a program runs, storing it as a tuple means faster code.\n",
    "\n",
    "### Range (start,stop,step)\n",
    "Range is used to hold a series of numbers. Suppose you are going to do some research on the multi-state lottery in which numbers range from 10 to 45. You could declare that as a range and then use that range throughout your code for all kinds of purposes. \n",
    "\n",
    "range(start,stop,step) is exclusive, like in the example given range(10,46,1) 46 wouldn't be included. \n",
    "\n",
    "For example:"
   ]
  },
  {
   "cell_type": "code",
   "execution_count": null,
   "id": "f8463383-0fee-4655-97c2-4d73b168a197",
   "metadata": {},
   "outputs": [],
   "source": [
    "# lottery ticket balls range from 10 to 45\n",
    "# let's assign this range to the variable \"lotteryRange\"\n",
    "lotteryRange = range(10,46,1)  # range(start,stop,step)\n",
    "\n",
    "# loop through the range and print out every number\n",
    "# notice that at each iteration of the loop, the variable \"number\" will contain the next\n",
    "# number in the range\n",
    "for number in lotteryRange:\n",
    "  print(number)"
   ]
  },
  {
   "cell_type": "markdown",
   "id": "3d6d0a0c-d8b1-4225-b79d-1572dcacf300",
   "metadata": {},
   "source": [
    "As you can see, our range goes from 10 to 45 incremented by 1. If you leave out the start number and the step size, Python assumes you want to start at 0 and increment by 1. In Python, a range is *immutable*. This example also used a \"for\" loop meaning that the block of code below it executes many times. In this case the number of times is determined by how many members there are in the range of numbers.\n",
    "\n",
    "### Sidebar: Indentation in Python\n",
    "\n",
    "Notice that after the \"for\" loop starts there is a colon and then the lines contained within the loop are indented by four spaces. Python doesn't use curly brackets like C-like languages do, but uses indentation to mark out blocks of code. Jupyter will take care of this for you for the most part. If you are using a plain text editor, just be consistent, you have to use a consistent number of spaces for the indent or a tab, but you can't mix styles.\n",
    "\n",
    "### Using Range in a For Loop\n",
    "\n",
    "Range is often used in the context of a *for loop* like this:"
   ]
  },
  {
   "cell_type": "code",
   "execution_count": null,
   "id": "242f578d-e0e8-426b-8b29-996709e460c8",
   "metadata": {},
   "outputs": [],
   "source": [
    "# range here is called with \"from\" and \"to\" and the default increment of 1 will be\n",
    "# in effect\n",
    "for counter in range(0,10):\n",
    "    print(counter)"
   ]
  },
  {
   "cell_type": "markdown",
   "id": "2e4299c9-87d5-4e88-ac4f-dcb7b732fac3",
   "metadata": {},
   "source": [
    "### Mapping - Dictionary {\"key\":\"value\",\"key2\":\"value2\"}\n",
    "\n",
    "Dictionaries are very useful for data science. They consist of a list of \"key / value\" pairs. Just like a dictionary has a word (key) and a definition (value), Python dictionaries have these pairs of keys/values. For example, here's some code that stores US Department of Labor occupation codes in a dictionary:\n"
   ]
  },
  {
   "cell_type": "code",
   "execution_count": null,
   "id": "2872a79d-ac2c-42fe-b83f-838a603e61a5",
   "metadata": {},
   "outputs": [],
   "source": [
    "#lets initialize our dictionary to contain three occupations\n",
    "# notice that dictionaries use curly brackets\n",
    "occupationCodes = {\"welder\" : \"51-4121.00\", \"nurse\" : \"29-1141.00\", \"computer programmer\" : \"15-1251.00\"}\n",
    "\n",
    "#oops, I forgot one, I can also add one at at a time\n",
    "occupationCodes[\"accountant\"] = \"13-2011.00\"\n",
    "\n",
    "# a customer typed in a keyword to search for a key in the dictionary\n",
    "# note: if this were real code you would need to \"sanitize\" your inputs\n",
    "# and make sure the customer didn't type anything that could potentially\n",
    "# ruin your database or expose a system vulnerability\n",
    "keyword = \"welder\"\n",
    "\n",
    "#now, I can do things with the dictionary like check if there is an entry:\n",
    "if keyword in occupationCodes:\n",
    "    print(f\"The occupation code for {keyword} is {occupationCodes.get(keyword)}\")\n",
    "else:\n",
    "    print(f\"Sorry, don't have information on {keyword}\")\n"
   ]
  },
  {
   "cell_type": "markdown",
   "id": "f7e7f4de-760f-46ad-9ed5-2da1963ab9e5",
   "metadata": {},
   "source": [
    "There are lots of cool things to notice in this code:\n",
    "- You can modify dictionaries (line 6)\n",
    "- You can check to see whether a key exists in the dictionary - on line 15 we check to see if the customer's keyword shows up as a key in the dictionary.\n",
    "- You can use .get(key) with a dictionary to retrieve the corresponding value (line 16)\n",
    "- You can not only print variables using the {} curly brackets, but you can also put code to execute in the curly bracket (line 16).\n",
    "\n",
    "Try modifying the keyword to something like \"firefighter\" that we know isn't in the dictionary and then running it.\n",
    "\n",
    "This code snippet above also uses the \"if ... else\" functionality in Python. The next section after we finish with types includes an explanation of this way to *check conditions* before executing code.\n",
    "\n",
    "Dictionaries, starting in Python 3.7 are *ordered* collections which means you can count on key/value pairs being stored in the order in which you added them to the dictionary.\n",
    "\n",
    "As awesome as dictionaries are, we will also use \"data frames\" later in this class to store multi-dimensional data. This functionality won't come from the basic Python language itself, it will be drawn from a library called \"Pandas.\""
   ]
  },
  {
   "cell_type": "markdown",
   "id": "e326aab1-15af-41f0-bb3e-700b21f24594",
   "metadata": {},
   "source": [
    "### Set {} and FrozenSet (())\n",
    "While *list* and *tuple* have an order to them and you can access their values by referring to the order using brackets ([0] grabs the first item), *set* and *frozen set* are not ordered and you can't reference individual members using an index in brackets. It's like a library full of books with no card catalog and a blindfolded librarian is only able to hand you a book at random (though not truly randomly). \n",
    "\n",
    "With *set*, you can remove items from or add items to the *set*, but you can't modify an item directly. With a *list*, you could change \"Charles\" to Charlie.\" But with a *set*, you'd have to delete \"Charles\" and then add \"Charlie.\" You also can't have duplicate values in a *set*. So you could represent the gameplay of duck, duck, goose using a *list*, but not a *set*. A *set* would only store \"duck\" and \"goose\" once each. \n",
    "\n",
    "The code below illustrates the properties of a set:"
   ]
  },
  {
   "cell_type": "code",
   "execution_count": null,
   "id": "717a97de-3ecd-4aad-818b-11bf2a67b85a",
   "metadata": {},
   "outputs": [],
   "source": [
    "# Short way to create a set (notice curly brackets)\n",
    "universitySet = {\"Mississippi State\", \"Michigan State\", \"Columbia\", \"LSU\", \"Tulane\", \"Notre Dame\"}\n",
    "\n",
    "print(universitySet)\n",
    "\n",
    "print(f\"This set contains {len(universitySet)} items.\")\n",
    "\n",
    "if \"USM\" in universitySet:\n",
    "    print(\"Cool, USM is Represented\")\n",
    "else:\n",
    "    print(\"We need to add USM\")\n",
    "    # add a college\n",
    "    universitySet.add(\"USM\")\n",
    "\n",
    "# remove a college\n",
    "universitySet.remove(\"Notre Dame\")\n",
    "\n",
    "print(universitySet) \n",
    "\n",
    "# Longer way to create a set (using the 'set' constructor method)\n",
    "communityCollegeSet = set((\"Jones College\",\"EMCC\",\"Meridian Community College\"))\n",
    "print(communityCollegeSet)"
   ]
  },
  {
   "cell_type": "markdown",
   "id": "faee53a8-8999-406d-b781-406c8a780474",
   "metadata": {},
   "source": [
    "Notice a few things:\n",
    "- There are two ways to initialize a set - the shorthand (line 2) and the longhand (line 17)\n",
    "- The method \"len()\" tells you how many members are in a set (line 6). You could also use len with a dictionary or other collections in python.\n",
    "- We can use \"in\" to see if a value is contained in the set (line 8)\n",
    "- You can .add() (line 13) and .remove() (line 16) items from the set\n",
    "\n",
    "A frozenset is like a set, but you cannot add or remove values once it is created. This code creates a frozenset then generates an error when trying to change it:"
   ]
  },
  {
   "cell_type": "code",
   "execution_count": null,
   "id": "5b197e43-0842-4469-9a49-109a67a1ae25",
   "metadata": {},
   "outputs": [],
   "source": [
    "communityCollegeSet = frozenset((\"Jones College\",\"EMCC\",\"Meridian Community College\"))\n",
    "print(communityCollegeSet)\n",
    "\n",
    "communityCollegeSet.remove(\"EMCC\")\n",
    "print(communityCollegeSet)"
   ]
  },
  {
   "cell_type": "markdown",
   "id": "6fa08331-6a6a-4ac8-9900-32c014ae57a5",
   "metadata": {},
   "source": [
    "You can't remove \"EMCC\" from the list because frozensets are immutable and Python enforces this.\n",
    "\n",
    "Sets use a \"hash table\" under the hood so they are super fast for figuring out whether something is in the set. That's their main advantage: speed.\n",
    "\n",
    "## Figuring Out What a Variable Can Do\n",
    "\n",
    "A cool trick is that you can type a variable name in Python into a Jupyter notebook, then a period after it, then hit the \"tab\" and you'll see a list of possible functions that are available for that instance. Give it a shot - just put your cursor after the variable below and you'll see a list of the functions available."
   ]
  },
  {
   "cell_type": "code",
   "execution_count": null,
   "id": "3828944c-f630-4c45-a66b-963bc9114317",
   "metadata": {},
   "outputs": [],
   "source": [
    "communityCollegeSet."
   ]
  },
  {
   "cell_type": "markdown",
   "id": "86d57711-00c2-4dae-961b-d436beb51a99",
   "metadata": {},
   "source": [
    "It should look like this:"
   ]
  },
  {
   "cell_type": "markdown",
   "id": "f13c0ae9-b21c-4330-91a1-b7fe3adefdaa",
   "metadata": {},
   "source": [
    "<img src=\"https://dsci.msstate.edu/downloads/USDA/autocomplete.png\" style=\"width:600px\" />    "
   ]
  },
  {
   "cell_type": "markdown",
   "id": "f4607dbf-ec53-4359-b960-4c5e0f9346e3",
   "metadata": {},
   "source": [
    "# IV. Iterating through Lists and Dictionaries\n",
    "One thing you'll need to do quite frequently in data science is to iterate through the values in a list, one by one. There are a few ways to do this. Here's the first:"
   ]
  },
  {
   "cell_type": "code",
   "execution_count": null,
   "id": "1c96c28c-d60c-41fd-b6f4-45f31666c0cf",
   "metadata": {},
   "outputs": [],
   "source": [
    "# Create a List\n",
    "greatLanguages = [\"Python\", \"R\", \"Rust\", \"C++\"]\n",
    "for language in greatLanguages:\n",
    "    print(f\"{language} is a great language.\")"
   ]
  },
  {
   "cell_type": "markdown",
   "id": "b10b68f5-bb18-4dd4-b683-ba90aca1833b",
   "metadata": {},
   "source": [
    "Notice that:\n",
    "- The variable \"language\" stores, one by one, the words in the greatLanguages collection (Line 2)\n",
    "- Within the for loop, at each step, you can operate against the variable language and do things like printing (Line 4)\n",
    "\n",
    "Sometimes you want to iterate in such a way as to store the index of each item and not just get the value of each item in the list:"
   ]
  },
  {
   "cell_type": "code",
   "execution_count": null,
   "id": "553b5c20-573e-47b0-a2c2-6c8192d4dfe8",
   "metadata": {},
   "outputs": [],
   "source": [
    "greatLanguages = [\"Python\", \"R\", \"Rust\", \"C++\"]\n",
    "for position, language in enumerate(greatLanguages):\n",
    "    print(position, language)"
   ]
  },
  {
   "cell_type": "markdown",
   "id": "14ee3b9f-64d9-4299-8410-911ae6e54b3f",
   "metadata": {},
   "source": [
    "In the example above:\n",
    "- The variable *position* contains the index number of the item at each iteration (0-3)\n",
    "- The variable *language* contains the value of the item (just as before)\n",
    "- The \"enumerate\" method is what extracts the value of the *position* and the *language variables*\n",
    "\n",
    "Iterating through a dictionary works similarly:"
   ]
  },
  {
   "cell_type": "code",
   "execution_count": null,
   "id": "bd77b665-ad3a-4d51-9a3e-8dc96b998288",
   "metadata": {},
   "outputs": [],
   "source": [
    "#lets initialize our dictionary to contain three occupation titles with their corresponding codes\n",
    "occupationCodes = {\"welder\" : \"51-4121.00\", \"nurse\" : \"29-1141.00\", \"computer programmer\" : \"15-1251.00\"}\n",
    "\n",
    "for key, value in occupationCodes.items():\n",
    "    print(key, \" is coded as \", value)\n"
   ]
  },
  {
   "cell_type": "markdown",
   "id": "0dcca66a-e795-49ad-8335-4295321725fe",
   "metadata": {},
   "source": [
    "### Exercise 1: List\n",
    "\n",
    "Create a list of your favorite band names and then iterate through the list and output each one in the format like \"I love The Rolling Stones\"."
   ]
  },
  {
   "cell_type": "code",
   "execution_count": null,
   "id": "8b14c8ca-de77-47f4-b6e2-e4ed310e6305",
   "metadata": {},
   "outputs": [],
   "source": []
  },
  {
   "cell_type": "markdown",
   "id": "7b36e4ae-9a84-4ed7-acbf-113b7b2a19e1",
   "metadata": {},
   "source": [
    "# V. Functions\n",
    "\n",
    "You're familiar now with Python's built-in functions like \"print.\" Sometimes you'll need to create custom functions.\n",
    "\n",
    "For example, let's create and use a trivial function that takes three values and returns their average."
   ]
  },
  {
   "cell_type": "code",
   "execution_count": null,
   "id": "6c0494d9-d897-4fbc-9bb5-1f32e7ecfa39",
   "metadata": {},
   "outputs": [],
   "source": [
    "# define our function\n",
    "def averageThreeVars(var1,var2,var3):\n",
    "    # calculate the average of the three\n",
    "    average = (var1 + var2 + var3) / 3\n",
    "    # return the average\n",
    "    return(average)\n",
    "\n",
    "# let's find the average height of the three highest mountains in the world\n",
    "\n",
    "# store the height in feet of three mountains in separate variables\n",
    "everestHeight = 29032\n",
    "k2Height = 28251\n",
    "kangchenjungaHeight = 28169\n",
    "\n",
    "# call the function averageThreeVars and pass in our three peaks, store the\n",
    "# result in a global variable called averageHeightThreePeaks\n",
    "averageHeightThreePeaks = averageThreeVars(everestHeight,k2Height,kangchenjungaHeight)\n",
    "\n",
    "# print out our global variable\n",
    "print(f\"The average height of our three peaks is {averageHeightThreePeaks}\")\n"
   ]
  },
  {
   "cell_type": "markdown",
   "id": "0806512a-ecc6-4dc9-9670-12be7e1be6e7",
   "metadata": {},
   "source": [
    "Notice that our function received the three mountain heights, calculated an average, and then \"returned\" that average where we stored it into a global variable called \"averageHeightThreePeaks.\"\n",
    "\n",
    "In most languages, you can only return one variable from a function. That variable can be a collection (e.g., a list) and so this isn't very limiting, but Python is pretty unique in being able to return multiple values from one function. We won't go into that today, but keep that in mind for the future.\n",
    "\n",
    "## Lambda Functions\n",
    "\n",
    "So far, this notebook has focused on defined functions. But there is another kind of function in Python called a \"Lambda\" function. This is probably the most advanced topic we cover here, but you'll see us use it later and may want to come back to review this.\n",
    "\n",
    "The following sample code will call a traditional function and a lambda version of the same function to add three to the number we give the function."
   ]
  },
  {
   "cell_type": "code",
   "execution_count": null,
   "id": "c03baeff-a641-42eb-a096-a3a6d6585a7d",
   "metadata": {},
   "outputs": [],
   "source": [
    "# we have some variable we want to change\n",
    "myVariable = 7\n",
    "\n",
    "# define a traditional function\n",
    "def addThreeTraditional(number):\n",
    "    return number+3\n",
    "\n",
    "# call it and pass in myVariable to add 3\n",
    "myResult = addThreeTraditional(myVariable)\n",
    "\n",
    "# print the result\n",
    "print(myResult)\n",
    "\n",
    "# now let's see a lambda version\n",
    "addThreeLambda = lambda x: x + 3\n",
    "\n",
    "# call the lambda\n",
    "myResult = addThreeLambda(myVariable)\n",
    "\n",
    "# print the result\n",
    "print(myResult)"
   ]
  },
  {
   "cell_type": "markdown",
   "id": "940bd121-d931-403d-9878-52a10ea6761e",
   "metadata": {},
   "source": [
    "Note that you should get the same result for both the regular and lambda versions of the function (10).\n",
    "\n",
    "Why on earth would we use lambdas? Well, a key reason would be that we don't have to define them ahead of time like we did above. The following is equivalent but it uses what are called \"anonymous\" functions - a lambda with no name.\n"
   ]
  },
  {
   "cell_type": "code",
   "execution_count": null,
   "id": "d7704307-62e8-46a5-81ab-31992e322fc7",
   "metadata": {},
   "outputs": [],
   "source": [
    "# get a result by, instead of using \"addThreeLambda\", just put the lambda \n",
    "# in parentheses and call with an argument in parentheses\n",
    "\n",
    "myResult = (lambda x:x+3)(myVariable)\n",
    "print(myResult)\n"
   ]
  },
  {
   "cell_type": "markdown",
   "id": "f6c83596-aa46-4185-8449-357ef94465e3",
   "metadata": {},
   "source": [
    "Amazing, right? You can also pass in multiple variables just like with a defined function."
   ]
  },
  {
   "cell_type": "code",
   "execution_count": null,
   "id": "480079fa-ae06-4754-ae5b-7e5bc33a59cd",
   "metadata": {},
   "outputs": [],
   "source": [
    "var1 = \"Amazing\"\n",
    "var2 = \"Spiderman\"\n",
    "\n",
    "# notice our lambda has two variables - x and y\n",
    "# and so we pass in the arguments in order\n",
    "superhero = (lambda x,y:x + \" \" + y)(var1,var2)\n",
    "\n",
    "print(superhero)"
   ]
  },
  {
   "cell_type": "markdown",
   "id": "583ab839-2c65-44e5-8fbf-9e9c58eaffd3",
   "metadata": {},
   "source": [
    "So we passed in two variables to the lambda, it squished them together with a space between and then returned them. You should see \"Amazing Spiderman.\"\n",
    "\n",
    "Now, just so you know the terminology of the parts of a lambda:\n",
    "\n",
    "<img src=\"https://dsci.msstate.edu/downloads/wrangling/lab6/lambda.png\" alt=\"parts of a lambda\" width=\"400\"/>\n"
   ]
  },
  {
   "cell_type": "markdown",
   "id": "5dd7e1e2-7133-429d-9ac2-1b3505c16cd4",
   "metadata": {},
   "source": [
    "## Python: Learning More\n",
    "\n",
    "Well, there's a lot more to Python, but the above gives you a start on variables, loops, collections, and iterating through collections.\n",
    "\n",
    "The great thing about Python is that you can google \"How do I (do whatever) in python?\" and you'll get help in many places."
   ]
  },
  {
   "cell_type": "markdown",
   "id": "fd8211a3-ce72-42e9-9bfe-39faff2447ee",
   "metadata": {},
   "source": [
    "# VI. Tabular Data with PANDAS\n",
    "\n",
    "The [pandas website](https://pandas.pydata.org/) describes the project's goal - pandas \"aims to be the fundamental high-level building block for doing practical, real world data analysis in Python. Additionally, it has the broader goal of becoming the most powerful and flexible open source data analysis / manipulation tool available in any language.\"\n",
    "\n",
    "PANDAS uses two kinds of structures to store data - *data frames* and *series*. Data Frames are like an excel spreadsheet - think of a table of data with headings and values. Series are like a single column in an excel spreadsheet. Both types of data have an *index* - you can think of an index, for now, as a line number, but it can be anything, even text.\n",
    "\n",
    "<img src=\"https://pandas.pydata.org/docs/_images/01_table_dataframe.svg\">\n",
    "\n",
    "\n",
    "(Image Source: Pandas Tutorial, https://pandas.pydata.org/docs/getting_started/intro_tutorials/01_table_oriented.html)"
   ]
  },
  {
   "cell_type": "markdown",
   "id": "fb11aedc-3ab0-41a1-be18-0c096d1381f0",
   "metadata": {},
   "source": [
    "## Making a Data Frame from Scratch\n",
    "\n",
    "You can make a data frame programmatically. For example, let's create a data frame from lists."
   ]
  },
  {
   "cell_type": "code",
   "execution_count": null,
   "id": "345bb90e-d62a-46f5-9bd0-986115883156",
   "metadata": {},
   "outputs": [],
   "source": [
    "listOfTuples = [(1,'089',32223,59730,98468,35297),\n",
    "                   (2,'121',27183,56159,145165,52539),\n",
    "                   (3,'073',27399,50075,57786,21237),\n",
    "                   (4,'033',25065,59734,166234,56641),\n",
    "                   (5,'059',23547,49620,140298,50185),\n",
    "                   (6,'047',23111,44550,194029,69384),\n",
    "                   (7,'149',22079,40404,48773,18941),\n",
    "                   (8,'045',21935,44494,43929,17380),\n",
    "                   (9,'081',21831,39049,82910,32086),\n",
    "                   (10,'131',21691,43728,17786,6165)]\n",
    "\n",
    "listOfColumnNames = [\"rank\",\"county_fips\",\"per_capita_income\"\n",
    "                     ,\"median_household_income\",\"population\"\n",
    "                     ,\"num_households\"]\n",
    "\n",
    "countyData = pd.DataFrame(listOfTuples,columns=listOfColumnNames)\n",
    "        \n",
    "# if placed on a line by itself, you will get pretty output of the data frame    \n",
    "countyData"
   ]
  },
  {
   "cell_type": "markdown",
   "id": "deb518a8-8120-4b9c-9494-fc19f92118aa",
   "metadata": {},
   "source": [
    "## CSV Files\n",
    "\n",
    "Pandas makes it very easy to load an excel file or other tabular data sources into data frames. \n",
    "\n",
    "Generally, we use .csv files instead of excel for common data exchanges because excel has a limit on length (1,048,576 rows). CSV is a common data format that uses a comma between the value in each column of data (\"comma delimited\") and it usually puts quotation marks around any data that inherently has commas (in case one of your columns itself needs commas).\n",
    "\n",
    "For example, a raw CSV file with a header row might look like this:\n",
    "\n",
    "<pre>\n",
    "Book Title,Publisher,Price\n",
    "War and Peace,Vintage Classics,12.99\n",
    "\"Our Bodies, Ourselves\",Touchstone,48.38\n",
    "Putin's Playbook,\"Simon & Schuster, Inc.\",14.49\n",
    "</pre>\n",
    "\n",
    "Notice that the second book listed has a comma in the title, so it is surrounded by quotation marks to avoid our interpreting the comma as a new column.\n",
    "\n",
    "The third book listed has a comma in the publisher name, so the quotation marks are used.\n",
    "\n",
    "## Loading a .csv File from a URL\n",
    "\n",
    "Here's an example of using pandas to load college football bowl data. It will load a file that is .csv format (comma-separated-values) into data frames. To make it easy at first we'll just load a file from the internet so you don't have to worry about local paths:"
   ]
  },
  {
   "cell_type": "code",
   "execution_count": null,
   "id": "119550c2-e718-4bc0-80cd-34bd8b8acb98",
   "metadata": {},
   "outputs": [],
   "source": [
    "# load in a csv file (this one is remotely located on a server)\n",
    "# note - the data dictionary is in https://dsci.msstate.edu/downloads/wrangling/lab2/collegefootballbowl.txt\n",
    "\n",
    "bowlData = pd.read_csv ('https://dsci.msstate.edu/downloads/wrangling/lab2/collegefootballbowl.csv')\n",
    "\n",
    "bowlData"
   ]
  },
  {
   "cell_type": "markdown",
   "id": "4aa7c684-7154-4cae-85c3-2972b0aab588",
   "metadata": {},
   "source": [
    "### Head(): Viewing Just the first N Lines\n",
    "Use head() to get a quick look at the first part of the data file."
   ]
  },
  {
   "cell_type": "code",
   "execution_count": null,
   "id": "80e2b2ba-89ee-4a91-a987-3de7a8d48c54",
   "metadata": {},
   "outputs": [],
   "source": [
    "## Head and Tail\n",
    "\n",
    "bowlData.head(10)"
   ]
  },
  {
   "cell_type": "markdown",
   "id": "f8995b7d-e10e-4576-844b-e72f4d4a68b8",
   "metadata": {},
   "source": [
    "### Tail(): Viewing Just the last N Lines\n",
    "Use tail() to get a quick look at the end of the data file."
   ]
  },
  {
   "cell_type": "code",
   "execution_count": null,
   "id": "25ba3428-cbc2-4703-94ab-237d23d1fbef",
   "metadata": {},
   "outputs": [],
   "source": [
    "bowlData.tail(10)"
   ]
  },
  {
   "cell_type": "markdown",
   "id": "de04c466-a1e8-4394-a07e-fb4622332177",
   "metadata": {},
   "source": [
    "## Investigating the Data\n",
    "\n",
    "### Shape Property: How Many Rows / Columns?"
   ]
  },
  {
   "cell_type": "code",
   "execution_count": null,
   "id": "d55b696c-f79b-4276-b689-d5c493bff58f",
   "metadata": {},
   "outputs": [],
   "source": [
    "bowlData.shape"
   ]
  },
  {
   "cell_type": "markdown",
   "id": "ea0671f0-c94a-454e-9100-ff70818003e7",
   "metadata": {},
   "source": [
    "So we see there are 1527 rows and 14 columns.\n",
    "\n",
    "### Dtypes Property: Understanding the Data Types of Each Column\n",
    "\n",
    "Maybe you would like to know the data type of each column. Just run:"
   ]
  },
  {
   "cell_type": "code",
   "execution_count": null,
   "id": "670a0899-5b65-4b8b-a87a-6de4d4d74365",
   "metadata": {},
   "outputs": [],
   "source": [
    "bowlData.dtypes"
   ]
  },
  {
   "cell_type": "markdown",
   "id": "9326723b-a8cf-431c-9146-266f757cc1a9",
   "metadata": {},
   "source": [
    "Anything column that says \"object\" is probably storing strings. int64 and float64 are numbers.\n",
    "\n",
    "### Describe(): Summary of Numerical Data (min, max, count, mean, quartiles)\n",
    "\n",
    "Maybe you would like to have a summary of the data. Just run:"
   ]
  },
  {
   "cell_type": "code",
   "execution_count": null,
   "id": "5282162a-7672-4b4c-a77f-e2ce2c26c8e0",
   "metadata": {},
   "outputs": [],
   "source": [
    "bowlData.describe()"
   ]
  },
  {
   "cell_type": "markdown",
   "id": "52591c2e-ac14-4e71-ade7-9832d2e4a3cc",
   "metadata": {},
   "source": [
    "Notice that .describe returned a description of all the numerical columns including number of values, mean, standard deviation, min, max, and percentiles. The \"min\" of the year column is interesting - 1901 is the earliest year on record.\n",
    "\n",
    "Also, notice that we only get descriptions of numerical columns. It's weird that we don't see the column for winner_rank, for example, but that's because it contains some non-numeric data. It's \"messy\" like a lot of real data is.\n",
    "\n",
    "To see all columns, numeric or not, you can do this:"
   ]
  },
  {
   "cell_type": "code",
   "execution_count": null,
   "id": "3a17f6af-eea5-45b4-b80d-d40783592cfb",
   "metadata": {},
   "outputs": [],
   "source": [
    "bowlData.describe(include = 'all')"
   ]
  },
  {
   "cell_type": "markdown",
   "id": "be695f79-b9c5-49bb-8a90-a98eb940b975",
   "metadata": {},
   "source": [
    "You can now see \"top\" which gives you the most common value in the column.\n",
    "\n",
    "### Analyzing Individual Columns\n",
    "\n",
    "You can also run mathematical measures of central tendency against individual columns. For example:"
   ]
  },
  {
   "cell_type": "code",
   "execution_count": null,
   "id": "ffa53b45-16e5-40cd-8c65-1167b0b9299a",
   "metadata": {},
   "outputs": [],
   "source": [
    "# the mean of winner_points\n",
    "print(\"Winners had an average of \",bowlData['winner_points'].mean())\n",
    "\n",
    "# the median of loser_points\n",
    "print(\"Losers had a median of \",bowlData['winner_points'].median())"
   ]
  },
  {
   "cell_type": "markdown",
   "id": "fdeacfea-d1bc-4874-b722-c83f18e7c305",
   "metadata": {},
   "source": [
    "### Info(): Understanding all Fields, Null Values, Size, etc."
   ]
  },
  {
   "cell_type": "code",
   "execution_count": null,
   "id": "70a7218d-3c06-4c39-9b05-836e15302f37",
   "metadata": {},
   "outputs": [],
   "source": [
    "# the .info method, like the property .dtypes, is great for figuring out the shape of our data\n",
    "bowlData.info()"
   ]
  },
  {
   "cell_type": "markdown",
   "id": "6867edf4-b290-4d50-bde2-0883d2e0b62b",
   "metadata": {},
   "source": [
    "## Selecting Data\n",
    "\n",
    "To find a specific set of rows, columns, or cells, you can use pandas to select data. There are several ways to do this.\n",
    "\n",
    "### The df.loc[] approach:\n",
    "\n",
    "With **.loc[rows, columns]** you can directly access rows and columns by name. If you have an integer in the \"row\" part, Pandas assumes this is the index of the row.\n",
    "\n",
    "#### Single Cell"
   ]
  },
  {
   "cell_type": "code",
   "execution_count": null,
   "id": "d850fcaa-cd2b-4f97-8118-0e2fca0a5a35",
   "metadata": {},
   "outputs": [],
   "source": [
    "# SELECT a single cell - the attendance where row index is 1\n",
    "bowlData.loc[1 , 'attendance']"
   ]
  },
  {
   "cell_type": "markdown",
   "id": "3d1c9de2-801b-42c2-8451-20081587830b",
   "metadata": {},
   "source": [
    "#### Single row by index"
   ]
  },
  {
   "cell_type": "code",
   "execution_count": null,
   "id": "93aff753-e1c4-4988-a31b-0890067f1b1e",
   "metadata": {},
   "outputs": [],
   "source": [
    "# SELECT whole row of data where row index is 1\n",
    "bowlData.loc[1 , :]"
   ]
  },
  {
   "cell_type": "markdown",
   "id": "9854480b-bf3f-4f0b-9991-82edd5944bc4",
   "metadata": {},
   "source": [
    "#### Single Column by Column Name"
   ]
  },
  {
   "cell_type": "code",
   "execution_count": null,
   "id": "f028a711-8950-4184-b8cd-5d95a2822fe2",
   "metadata": {},
   "outputs": [],
   "source": [
    "# SELECT a single column of data, just the atttendance column\n",
    "bowlData.loc[: , 'attendance']"
   ]
  },
  {
   "cell_type": "markdown",
   "id": "76af8e3a-43af-4708-aeeb-130e5bd14bd5",
   "metadata": {},
   "source": [
    "#### Slice of Rows by Index Range"
   ]
  },
  {
   "cell_type": "code",
   "execution_count": null,
   "id": "988115e8-db87-4f7d-a357-13b30121e0b9",
   "metadata": {},
   "outputs": [],
   "source": [
    "# SELECT a \"slice\" of rows where index is between 1 and 20\n",
    "bowlData.loc[1:20 , :]"
   ]
  },
  {
   "cell_type": "markdown",
   "id": "a37db1f2-0b75-4da1-ac1a-9c5a8b892e44",
   "metadata": {},
   "source": [
    "#### Slice Containing All Rows, but Only Certain Columns"
   ]
  },
  {
   "cell_type": "code",
   "execution_count": null,
   "id": "9ef74292-941c-4783-ab03-e6dc25ab039f",
   "metadata": {},
   "outputs": [],
   "source": [
    "# SELECT all rows but only a  \"slice\" of columns \n",
    "bowlData.loc[: , 'year':'winner_rank']"
   ]
  },
  {
   "cell_type": "markdown",
   "id": "421ab211-d2f2-41da-b495-f909fceda29c",
   "metadata": {},
   "source": [
    "#### Slice Containing Certain Rows, Certain Columns"
   ]
  },
  {
   "cell_type": "code",
   "execution_count": null,
   "id": "e53fd3f7-515e-466b-b2f5-a73a58c52005",
   "metadata": {},
   "outputs": [],
   "source": [
    "# SELECT a \"slice\" of cells where row index is between 10 and 20 and only a few columns\n",
    "bowlData.loc[10:20 , 'year':'winner_rank']"
   ]
  },
  {
   "cell_type": "markdown",
   "id": "4c215366-4f44-4621-ad2e-ac2b6a9b5ecd",
   "metadata": {},
   "source": [
    "#### Rows Where Column has Certain Value"
   ]
  },
  {
   "cell_type": "code",
   "execution_count": null,
   "id": "4a7f3c5f-d570-4cee-b66d-ce030a2102a4",
   "metadata": {},
   "outputs": [],
   "source": [
    "# this will find the locations in the dataset where year is equal to 1901\n",
    "bowlData.loc[bowlData['year'] == 1901]"
   ]
  },
  {
   "cell_type": "markdown",
   "id": "71d359c6-f811-45cc-afd2-da6cf0125770",
   "metadata": {},
   "source": [
    "This returned only one row. You can read all about that season of bowls here: https://en.wikipedia.org/wiki/1901_college_football_season"
   ]
  },
  {
   "cell_type": "code",
   "execution_count": null,
   "id": "5bec8c89-fa1e-4368-8ea1-76c9d0974256",
   "metadata": {},
   "outputs": [],
   "source": [
    "# this will find the locations in the dataset where sponsor is null\n",
    "bowlData.loc[bowlData['sponsor'].isna()]"
   ]
  },
  {
   "cell_type": "markdown",
   "id": "22142e50-ff2f-4bf6-9a52-dae121b51ed2",
   "metadata": {},
   "source": [
    "#### Rows Based on Column Comparison\n",
    "\n",
    "If we want to return all the games where the winner was ranked below the loser, we could do it this way."
   ]
  },
  {
   "cell_type": "code",
   "execution_count": null,
   "id": "fd43d9c4-d270-4bbf-bc27-3342accee392",
   "metadata": {},
   "outputs": [],
   "source": [
    "# finds all locations where the loser ranked below the winner\n",
    "bowlData.loc[bowlData['loser_rank'] < bowlData['winner_rank']]"
   ]
  },
  {
   "cell_type": "markdown",
   "id": "18ef2796-b265-419a-9cbd-76e28a04c3fc",
   "metadata": {},
   "source": [
    "Notice that when your output exceeds twenty lines Jupyter will format nicely and show a bit at the ending and a bit at the end. It will do the same thing if your output has too many columns."
   ]
  },
  {
   "cell_type": "markdown",
   "id": "0cd3295a-d095-4207-a6e1-a4c5b7c8d1a0",
   "metadata": {},
   "source": [
    "### The df.query() Method:\n",
    "\n",
    "We can also use a method called .query(). Inside the .query() we can put a query that looks a little bit like a database query."
   ]
  },
  {
   "cell_type": "markdown",
   "id": "655c4c6b-98d6-4834-b7b6-20c81d0bd19a",
   "metadata": {},
   "source": [
    "#### Rows Where Column has Certain Numerical Value"
   ]
  },
  {
   "cell_type": "code",
   "execution_count": null,
   "id": "24af4575-2e34-40b9-a98d-6ed394c4a49c",
   "metadata": {},
   "outputs": [],
   "source": [
    "# this will find the locations in the dataset where year is equal to 1901 using .query\n",
    "bowlData.query(\"year == 1901\")"
   ]
  },
  {
   "cell_type": "markdown",
   "id": "96bd8256-fb6c-48bd-96b9-9459b79fb3de",
   "metadata": {},
   "source": [
    "#### Rows Where Column has String Value"
   ]
  },
  {
   "cell_type": "code",
   "execution_count": null,
   "id": "7f6fc563-60b9-4476-80bb-6d03c94b3163",
   "metadata": {},
   "outputs": [],
   "source": [
    "# This will find the locations where the bowl_name is \"Rose Bowl\"\n",
    "# notice the single quotes around the string \"Rose Bowl\"\n",
    "bowlData.query(\"bowl_name == 'Rose Bowl'\")"
   ]
  },
  {
   "cell_type": "markdown",
   "id": "6c979285-cbe7-4d64-b918-42545f2abc4e",
   "metadata": {},
   "source": [
    "#### Rows Based on Substring Comparison"
   ]
  },
  {
   "cell_type": "code",
   "execution_count": null,
   "id": "4bcf2a60-8037-4c44-ade3-84f2a3ca3aac",
   "metadata": {},
   "outputs": [],
   "source": [
    "# Grab any row where the word \"State\" appears in the winner_tie column\n",
    "bowlData.query('winner_tie.str.contains(\"State\")', engine='python')"
   ]
  },
  {
   "cell_type": "markdown",
   "id": "6efcf6df-0570-4f1e-a21a-ce544a6bcd0e",
   "metadata": {},
   "source": [
    "#### Rows Based on Column Comparison"
   ]
  },
  {
   "cell_type": "code",
   "execution_count": null,
   "id": "7e8d2ddb-2292-4e57-a01a-414739a274b7",
   "metadata": {},
   "outputs": [],
   "source": [
    "# This will find all locations where the loser ranked below the winner using .query\n",
    "bowlData.query(\"loser_rank < winner_rank\")\n"
   ]
  },
  {
   "cell_type": "markdown",
   "id": "340d906f-6310-4bd8-8a88-d5c58cd609ab",
   "metadata": {},
   "source": [
    "#### Rows Based on Comparison with a Variable"
   ]
  },
  {
   "cell_type": "code",
   "execution_count": null,
   "id": "c757dbd8-1f41-4052-97e4-a9eda277d295",
   "metadata": {},
   "outputs": [],
   "source": [
    "# First, let's get the mean winner_points x 2\n",
    "twiceTheMean = bowlData.winner_points.mean() * 2\n",
    "\n",
    "# then, we can use that value to query for winners with more than twice the mean\n",
    "bowlData.query(\"winner_points > @twiceTheMean\")"
   ]
  },
  {
   "cell_type": "markdown",
   "id": "b8602a21-a87c-45b7-adc3-eec65294854a",
   "metadata": {},
   "source": [
    "#### Combining Criteria"
   ]
  },
  {
   "cell_type": "code",
   "execution_count": null,
   "id": "dba255f5-9e21-4f4e-9d34-68820a538031",
   "metadata": {},
   "outputs": [],
   "source": [
    "# Find all the rows where the winner is Alabama, \n",
    "# Alabama had more than 50 points, \n",
    "# and yet they weren't ranked number 1.\n",
    "bowlData.query(\"(winner_tie == 'Alabama') and (winner_points > 50) and (winner_rank > 1)\")"
   ]
  },
  {
   "cell_type": "markdown",
   "id": "c2334e5d-aabd-4983-af0f-27c1eab5bfcc",
   "metadata": {},
   "source": [
    "## Sorting Data\n",
    "\n",
    "Let's sort by the winner's points to find the highest score by an upset winner.\n",
    "\n",
    "The problem is that to sort properly, some of our rank data is not numeric as we saw above when we did .dtype.\n",
    "\n",
    "Here's what happens if we sort on the winner_points column and try to sort descending (highest rank down to lowest):"
   ]
  },
  {
   "cell_type": "code",
   "execution_count": null,
   "id": "9e4bbfb8-be8a-4998-8f37-d08638bc8d6f",
   "metadata": {},
   "outputs": [],
   "source": [
    "# another cool thing - notice that we've asked for only certain columns by providing a list of the column\n",
    "# names or 'series' that we want\n",
    "\n",
    "bowlData[['id','year','winner_rank','mvp']].sort_values(by=['winner_rank'], ascending=False)"
   ]
  },
  {
   "cell_type": "markdown",
   "id": "9f108fa6-3724-466d-8b8c-f5436ff33adc",
   "metadata": {},
   "source": [
    "Notice that \"Pennsylvania\" is the highest winner_rank, but that's not a number at all. Let's fix that by changing that column to something numeric and then sorting again."
   ]
  },
  {
   "cell_type": "code",
   "execution_count": null,
   "id": "25099c82-a16c-4680-b590-00d9f965aafa",
   "metadata": {},
   "outputs": [],
   "source": [
    "bowlData[\"winner_rank\"] = pd.to_numeric(bowlData[\"winner_rank\"])"
   ]
  },
  {
   "cell_type": "markdown",
   "id": "8aa0aa9e-e7ce-4b96-a398-a4a572714785",
   "metadata": {},
   "source": [
    "Oh, we got an error. Let's fix that row to something numerical like zero."
   ]
  },
  {
   "cell_type": "code",
   "execution_count": null,
   "id": "846c3068-81a5-4c09-84f1-001f190d995c",
   "metadata": {},
   "outputs": [],
   "source": [
    "# in the location where the row winner_rank is Pennsylvania and the column is winner_rank, set it 0\n",
    "bowlData.loc[bowlData['winner_rank'] == 'Pennsylvania', ['winner_rank']] = 0\n",
    "\n",
    "# then do the conversion\n",
    "bowlData[\"winner_rank\"] = pd.to_numeric(bowlData[\"winner_rank\"])"
   ]
  },
  {
   "cell_type": "markdown",
   "id": "31de316a-3f7a-45b0-894f-6959340e2425",
   "metadata": {},
   "source": [
    "Awesome, no error. Now let's convert the loser_rank column values to numeric:\n"
   ]
  },
  {
   "cell_type": "code",
   "execution_count": null,
   "id": "d62a181c-9759-4ecc-b995-08205fcbbf32",
   "metadata": {},
   "outputs": [],
   "source": [
    "bowlData[\"loser_rank\"] = pd.to_numeric(bowlData[\"loser_rank\"])"
   ]
  },
  {
   "cell_type": "markdown",
   "id": "c7a2035b-0713-4809-86e9-5fa8cca567f0",
   "metadata": {},
   "source": [
    "Oops, the same error.  Please supply the code here to change \"TN\" to zero on the row where loser rank is zero."
   ]
  },
  {
   "cell_type": "code",
   "execution_count": null,
   "id": "80cba1c4-7d11-4f4b-a643-164629164bc8",
   "metadata": {},
   "outputs": [],
   "source": [
    "# put the code here to change the value\n",
    "bowlData.loc[bowlData['loser_rank'] == 'TN', ['loser_rank']] = 0\n",
    "\n",
    "# then we can convert loser rank to numeric\n",
    "bowlData[\"loser_rank\"] = pd.to_numeric(bowlData[\"loser_rank\"])"
   ]
  },
  {
   "cell_type": "markdown",
   "id": "dd7dfdad-2614-4252-a2c5-e8e486124525",
   "metadata": {},
   "source": [
    "Now, we can see what we were looking for. We want to know who had the most points in a game when a lower ranking team beat a higher ranked team."
   ]
  },
  {
   "cell_type": "code",
   "execution_count": null,
   "id": "fd5188c9-66ba-4221-a0f6-0f930d339c6f",
   "metadata": {},
   "outputs": [],
   "source": [
    "# get the rows where loser ranks lower than winner then sort by the winner's points descending\n",
    "# notice how you can chain methods together\n",
    "bowlData.query(\"loser_rank < winner_rank\").sort_values(by=['winner_points'], ascending=False)"
   ]
  },
  {
   "cell_type": "markdown",
   "id": "8ecf0c72-4d69-4cf0-b160-36c9ffa11882",
   "metadata": {},
   "source": [
    "Nice, right? we can see that 23rd ranked West Virginia beat 14th ranked Clemson in 2011 with a score of 70!\n",
    "\n"
   ]
  },
  {
   "cell_type": "markdown",
   "id": "ccf9b602-10e7-4ee4-bad4-b294c1350378",
   "metadata": {},
   "source": [
    "## Grouping Data"
   ]
  },
  {
   "cell_type": "code",
   "execution_count": null,
   "id": "d81ba502-1ea0-4652-aac4-64335a113e69",
   "metadata": {},
   "outputs": [],
   "source": [
    "avgPointsByWinners = bowlData.groupby(\"winner_tie\")[\"winner_points\"].mean()\n",
    "avgPointsByWinners"
   ]
  },
  {
   "cell_type": "markdown",
   "id": "57cd1fb3-afe7-420a-9ead-a811239f5ec8",
   "metadata": {},
   "source": [
    "Notice that the list is sorted by winner_tie, the grouping column. This is the default behavior unless you specify sort=False as a parameter of the groupby() function. "
   ]
  },
  {
   "cell_type": "markdown",
   "id": "9bb63aa1-27b7-4988-8508-7f29edaadd1a",
   "metadata": {},
   "source": [
    "## Renaming Columns\n",
    "\n",
    "To change column names, the easiest way is this:"
   ]
  },
  {
   "cell_type": "code",
   "execution_count": null,
   "id": "6d9bad0f-b3c3-45c6-a32e-cdebed5e3420",
   "metadata": {},
   "outputs": [],
   "source": [
    "# create a dictionary where key is the old name and value is the new name\n",
    "columnMap = {\"mvp\":\"Most Valuable Player\", \"attendance\":\"Attendance\"}\n",
    "\n",
    "bowlData = bowlData.rename(columns=columnMap, errors=\"raise\")\n",
    "\n",
    "bowlData"
   ]
  },
  {
   "cell_type": "markdown",
   "id": "201c2032-484e-4204-b6ec-5a65aae5ed2c",
   "metadata": {},
   "source": [
    "## Handling Missing or Null Values\n",
    "A common thing one needs to prepare for analysis or machine learning is to ensure that there are no null values. Let's see what's null in our bowl data. An easy thing to do is to get a number of null values per column like this:"
   ]
  },
  {
   "cell_type": "code",
   "execution_count": null,
   "id": "6bb03885-cdb3-4dba-b598-e0ecb2b33b60",
   "metadata": {},
   "outputs": [],
   "source": [
    "# first, let's be sure we can see enough rows\n",
    "pd.set_option('display.max_rows', 30)\n",
    "\n",
    "# now show the count by column of null values\n",
    "bowlData.isnull().sum()"
   ]
  },
  {
   "cell_type": "code",
   "execution_count": null,
   "id": "88631069-db61-46d0-ab65-4bd433d68f77",
   "metadata": {},
   "outputs": [],
   "source": [
    "# this would return true or false for any row / column in which the result is missing / null\n",
    "bowlData.isna()"
   ]
  },
  {
   "cell_type": "markdown",
   "id": "a3a1bfc9-61af-4226-a40d-5fcbbff06300",
   "metadata": {},
   "source": [
    "Notice the \"True\" in the winner_rank and loser_rank columns. This means some of the columns in \"winner_rank\" and \"loser_rank\" are missing.\n",
    "\n",
    "Let's look at those rows with null values (\"NaN\")"
   ]
  },
  {
   "cell_type": "code",
   "execution_count": null,
   "id": "0947c588-ac9b-4b2c-9240-6e29f2e49426",
   "metadata": {},
   "outputs": [],
   "source": [
    "# here we're asking for all the rows where winner_rank is null\n",
    "bowlData[bowlData['winner_rank'].isnull()]"
   ]
  },
  {
   "cell_type": "markdown",
   "id": "7b7040db-8cca-47c2-9146-e57d584e3d2a",
   "metadata": {},
   "source": [
    "This method will replace anything that is NaN with zero:"
   ]
  },
  {
   "cell_type": "code",
   "execution_count": null,
   "id": "384ebac7-3f77-4420-96e5-e0d0101008e1",
   "metadata": {},
   "outputs": [],
   "source": [
    "# put data into a new data frame and replace all missing values in the winner_rank with zero\n",
    "# notice that we are assigning the results of fillna to a new dataframe variable\n",
    "betterBowlData = bowlData.fillna(0)\n",
    "\n",
    "# let's see if anything is null - shouldn't be\n",
    "betterBowlData.isna()"
   ]
  },
  {
   "cell_type": "markdown",
   "id": "ddcd53be-6504-4c0b-89a0-30a5c451720d",
   "metadata": {},
   "source": [
    "## Writing Data to a File\n",
    "\n",
    "To write data to a file, PANDAS has a built-in method to write .csv files - df.to_csv().\n",
    "\n",
    "For example, let's write our bowl data to a file."
   ]
  },
  {
   "cell_type": "code",
   "execution_count": null,
   "id": "2d87da19-5c4e-4250-8368-bfa26d56c368",
   "metadata": {},
   "outputs": [],
   "source": [
    "bowlData.to_csv(r'bowlData.csv', index = None, header=True)"
   ]
  },
  {
   "cell_type": "markdown",
   "id": "27809429-0ce6-4744-9a9a-3892ca3f18c6",
   "metadata": {},
   "source": [
    "## Learning more about Pandas\n",
    "\n",
    "There is a great pandas \"cheat sheet\" in the lab files."
   ]
  }
 ],
 "metadata": {
  "kernelspec": {
   "display_name": "Python 3 (ipykernel)",
   "language": "python",
   "name": "python3"
  },
  "language_info": {
   "codemirror_mode": {
    "name": "ipython",
    "version": 3
   },
   "file_extension": ".py",
   "mimetype": "text/x-python",
   "name": "python",
   "nbconvert_exporter": "python",
   "pygments_lexer": "ipython3",
   "version": "3.9.16"
  }
 },
 "nbformat": 4,
 "nbformat_minor": 5
}
